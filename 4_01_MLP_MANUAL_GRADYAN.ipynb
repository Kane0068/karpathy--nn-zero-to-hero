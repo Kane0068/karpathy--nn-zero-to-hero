{
  "nbformat": 4,
  "nbformat_minor": 0,
  "metadata": {
    "colab": {
      "provenance": [],
      "authorship_tag": "ABX9TyO/HeAGEl4OIpCMwM3yhqlV"
    },
    "kernelspec": {
      "name": "python3",
      "display_name": "Python 3"
    },
    "language_info": {
      "name": "python"
    }
  },
  "cells": [
    {
      "cell_type": "code",
      "source": [
        "import torch"
      ],
      "metadata": {
        "id": "O2JxV5Dun7CH"
      },
      "execution_count": null,
      "outputs": []
    },
    {
      "cell_type": "markdown",
      "source": [
        "# 1.Veri Seti Oluşturma"
      ],
      "metadata": {
        "id": "Jl-Z9TdKsOUY"
      }
    },
    {
      "cell_type": "markdown",
      "source": [
        "Text : emma , mia\n"
      ],
      "metadata": {
        "id": "Tg4EPtH_l6XI"
      }
    },
    {
      "cell_type": "code",
      "execution_count": null,
      "metadata": {
        "id": "yVsTZp9wlvPZ"
      },
      "outputs": [],
      "source": [
        "stoi = {'.': 0, 'a': 1, 'e': 2, 'i': 3, 'm': 4}"
      ]
    },
    {
      "cell_type": "markdown",
      "source": [
        "Context ve Target Oluşturma\n",
        "- Kontekst boyutu 3 olsun (her bir giriş, 3 karakterlik bir kontekst içerir).\n",
        "- Örnek veri için giriş (X) ve çıkış (Y) çiftlerini oluşturalım:\n",
        "> emma için;\n",
        "  - Kontekst: [., ., e] → Hedef: m → [0, 0, 2] → 4\n",
        "  - Kontekst: [., e, m] → Hedef: m → [0, 2, 4] → 4\n",
        "  - Kontekst: [e, m, m] → Hedef: a → [2, 4, 4] → 1\n",
        "  - Kontekst: [m, m, a] → Hedef: . → [4, 4, 1] → 0\n",
        "\n",
        "  > mia için;\n",
        "  - Kontekst: [., ., m] → Hedef: i → [0, 0, 4] → 3\n",
        "  - Kontekst: [., m, i] → Hedef: a → [0, 4, 3] → 1\n",
        "  - Kontekst: [m, i, a] → Hedef: . → [4, 3, 1] → Ch0"
      ],
      "metadata": {
        "id": "_4EH8peemKUL"
      }
    },
    {
      "cell_type": "code",
      "source": [
        "X = torch.tensor([\n",
        "    [0,0,2],   # . . e ---> m\n",
        "    [0,2,4],   # . e m ---> m\n",
        "    [2,4,4],    # e m m --- > a\n",
        "    [4,4,1],   # m m a --- > .\n",
        "    [0,0,4],   #. . m ---- > i\n",
        "    [0,4,3],  # . m i -----> a\n",
        "    [4,3,1]    # m i a -----> .\n",
        "])\n",
        "\n",
        "Y = torch.tensor([4,4,1,0,3,1,0] )  # Hedef karakterlerin indexleri"
      ],
      "metadata": {
        "id": "XO-yIREQmGLN"
      },
      "execution_count": null,
      "outputs": []
    },
    {
      "cell_type": "markdown",
      "source": [
        "Mini Batch Seçimi\n",
        "\n",
        "- Mini-batch boyutu 2 olsun.Rastgele seçilen indexler [0,4]\n",
        "- Mini batch girş ve çıkışları:"
      ],
      "metadata": {
        "id": "gy7rqSjgoSZz"
      }
    },
    {
      "cell_type": "code",
      "source": [
        "Xb = X[[0,4]]\n",
        "Yb = Y[[0,4]]\n",
        "print(Xb,Yb,Xb.shape , Yb.shape)"
      ],
      "metadata": {
        "colab": {
          "base_uri": "https://localhost:8080/"
        },
        "id": "VbxOdv1Oolim",
        "outputId": "25bcf408-ce66-4665-df0b-ca73787cdcc8"
      },
      "execution_count": null,
      "outputs": [
        {
          "output_type": "stream",
          "name": "stdout",
          "text": [
            "tensor([[0, 0, 2],\n",
            "        [0, 0, 4]]) tensor([4, 3]) torch.Size([2, 3]) torch.Size([2])\n"
          ]
        }
      ]
    },
    {
      "cell_type": "markdown",
      "source": [
        "# 2.Kullanılacak PARAMETRELER"
      ],
      "metadata": {
        "id": "suHt-6gTsTfH"
      }
    },
    {
      "cell_type": "markdown",
      "source": [
        "Model Parametreleri\n",
        "\n",
        "- Modelin boyutlarını basitleştirelim\n",
        "  1. Gömme vectör boyutu 2 ---> Her karaktere ait 2 boyut(özellik)\n",
        "  2. Birinci katman nöron sayısı : 3 ----> n_hidden\n",
        "  3. Karakter sayısı : 5 (. , a , e , i , m)---> vocab_size\n",
        "  4. Context boyutu : 3 ----> İnput ----> Katmana girişi ---> Context boyutu x gömme vectör boyutu 3 * 2 = 6"
      ],
      "metadata": {
        "id": "esgiBuO-o7D-"
      }
    },
    {
      "cell_type": "code",
      "source": [
        "# Parametreler\n",
        "\n",
        "# Gömme tablosu 5 karakter ve her biri 2 boyutlu\n",
        "C = torch.tensor([\n",
        "    [1.0,  0.5],   # . (0) ---> özellikler boyutlar\n",
        "    [0.2 , 0.8],  # a (1)\n",
        "    [0.4 , 0.6] ,  # e (2)\n",
        "    [0.7 , 0.3] ,  # i (3)\n",
        "    [0.9 , 0.1]   # m (4)\n",
        "], dtype=torch.float32)\n",
        "\n",
        "\n",
        "# ----------1.KATMAN ------------\n",
        "\n",
        "# Birinci katman ( 6 giriş , 3 nöron)\n",
        "\n",
        "W1 = torch.tensor([\n",
        "    [0.1, 0.2, 0.3],\n",
        "    [0.4, 0.5, 0.6],\n",
        "    [0.7, 0.8, 0.9],\n",
        "    [1.0, 1.1, 1.2],\n",
        "    [1.3, 1.4, 1.5],\n",
        "    [1.6, 1.7, 1.8]\n",
        "], dtype=torch.float32)\n",
        "\n",
        "# Bias değerleri\n",
        "b1 = torch.tensor([0.1,0.2,0.3] , dtype=torch.float32)\n",
        "\n",
        "# ----------BATCHNORM--------------\n",
        "\n",
        "bngain = torch.tensor([[1.0,1.0,1.0]] , dtype=torch.float32)\n",
        "bnbias = torch.tensor([[0.0,0.0,0.0]] , dtype=torch.float32)\n",
        "\n",
        "\n",
        "# -------------İKİNCİ KATMAN----------\n",
        "\n",
        "# İkinci katman (3 nöron, 5 çıkış)\n",
        "W2 = torch.tensor([\n",
        "    [0.5, 0.4, 0.3, 0.2, 0.1],\n",
        "    [0.6, 0.5, 0.4, 0.3, 0.2],\n",
        "    [0.7, 0.6, 0.5, 0.4, 0.3]\n",
        "], dtype=torch.float32)\n",
        "\n",
        "b2 = torch.tensor([0.1, 0.1, 0.1, 0.1, 0.1], dtype=torch.float32)"
      ],
      "metadata": {
        "id": "UPu4L7l-oxll"
      },
      "execution_count": null,
      "outputs": []
    },
    {
      "cell_type": "markdown",
      "source": [
        "# 3.Forward Pass ( ileri Yayılım )\n",
        "\n",
        "Şimdi mini-batch Xb = [[0,0,2],[0,0,4]] , Yb = [4,3] üzerinde ileri yayılımı adım adım hesaplayacağız\n",
        "\n",
        "1. Adım : Gömme (Embedding)\n",
        "\n",
        "- Her karakteri gömme vektörüne dönüştürelim\n",
        "\n",
        "Xb[0] = [0 , 0 , 2] ----> ( .  .  e )\n",
        "\n",
        "C[0] = [1.0 , 0.5] --->  .\n",
        "C[0] = [1.0 , 0.5] --->  .\n",
        "C[2] = [0.4 , 0.6] --->  e\n",
        "\n",
        "Xb[1] = [0 , 0 , 4 ] ----> (. . m)\n",
        "\n",
        "C[0] =[1.0, 5.0]  ---> .\n",
        "C[0] =[1.0 , 0.5] ---> .\n",
        "C[4] =[0.9 , 0.1] ---> m"
      ],
      "metadata": {
        "id": "fWhvMblUsJsN"
      }
    },
    {
      "cell_type": "code",
      "source": [
        "emb = C[Xb]   # (2 , 3 ,2) 2 örnek 3 context 2 boyut\n",
        "#emb[0] = [[1.0,0.5],[1.0,0.5],[0.4,0.6]]\n",
        "#emb[1]  [[1.0,0.5],[1.0,0.5],[0.9,0.1]]"
      ],
      "metadata": {
        "id": "LSUcaa95ned5"
      },
      "execution_count": null,
      "outputs": []
    },
    {
      "cell_type": "code",
      "source": [
        "emb"
      ],
      "metadata": {
        "colab": {
          "base_uri": "https://localhost:8080/"
        },
        "id": "6W8YEqNMoASV",
        "outputId": "b291726d-43eb-4b57-940c-3976571facc0"
      },
      "execution_count": null,
      "outputs": [
        {
          "output_type": "execute_result",
          "data": {
            "text/plain": [
              "tensor([[[1.0000, 0.5000],\n",
              "         [1.0000, 0.5000],\n",
              "         [0.4000, 0.6000]],\n",
              "\n",
              "        [[1.0000, 0.5000],\n",
              "         [1.0000, 0.5000],\n",
              "         [0.9000, 0.1000]]])"
            ]
          },
          "metadata": {},
          "execution_count": 7
        }
      ]
    },
    {
      "cell_type": "code",
      "source": [
        "# BİRLEŞTİRME (FLATTEN)\n",
        "\n",
        "embcat = emb.view(emb.shape[0],-1)  # (2,6) 2 örnek 2*3 = 6 boyut\n",
        "# embcat[0] = [1.0,0.5,1.0,0.5,0.4,0.6]\n",
        "# embcat[1] = [1.0,0.5,1.0,0.5,0.9,0.1]\n",
        "embcat"
      ],
      "metadata": {
        "colab": {
          "base_uri": "https://localhost:8080/"
        },
        "id": "pH4WjakcoDMO",
        "outputId": "969249ae-d8a1-4195-827e-f219aa8a06f9"
      },
      "execution_count": null,
      "outputs": [
        {
          "output_type": "execute_result",
          "data": {
            "text/plain": [
              "tensor([[1.0000, 0.5000, 1.0000, 0.5000, 0.4000, 0.6000],\n",
              "        [1.0000, 0.5000, 1.0000, 0.5000, 0.9000, 0.1000]])"
            ]
          },
          "metadata": {},
          "execution_count": 7
        }
      ]
    },
    {
      "cell_type": "markdown",
      "source": [
        "# 4.Birinci Katman ( Linear )\n"
      ],
      "metadata": {
        "id": "2DIN00ndpXnA"
      }
    },
    {
      "cell_type": "markdown",
      "source": [
        "hprebn = embcat @ W1 + b1\n",
        "\n",
        "Matris Çarpımı : embcat (2,6)  @ (6,3) = (2,3)\n",
        "\n",
        "Örnek Matris Çarpımı : embcat[0] = [1.0,0.5,1.0,0.5,0.4,0.6]\n",
        "\n",
        "W1 = tensor([\n",
        "        [0.1, 0.2, 0.3],\n",
        "        [0.4, 0.5, 0.6],\n",
        "        [0.7, 0.8, 0.9],\n",
        "        [1.0, 1.1, 1.2],\n",
        "        [1.3, 1.4, 1.5],\n",
        "        [1.6, 1.7, 1.8]])\n",
        "\n",
        "b1 = [0.1 , 0.2 , 0.3]\n",
        "\n",
        "hprebn = [0,0] = 1.0*0.1+0.5*0.4+1.0*0.7+0.5*1.0+0.4*1.3+0.6*1.6 = 1.1+ 0.2 + 0.7 + 0.5 + 0.52 + 0.96 = 3.03\n",
        "hprebn [0,1] = 1.0*0.2+0.5*0.5+1.0*0.8+0.5*1.1+0.4*1.4+0.6*1.7 = 0.2+0.25+0.8+ 0.55 + 0.56 + 1.02 = 3.38\n",
        "hprebn[0,2] = 1.0*0.3 + 0.5*0.6 + 1.0*0.9 + 0.5*1.2 + 0.4*1.5+ 0.6*1.8 = 0.3 + 0.3 + 0.9 + 0.6 + 0.6 + 1.08 = 3.78\n",
        "\n",
        "Bias Ekleme = hprebn[0] = [3.03 + 0.1 , 3.38 + 0.2 , 3.78 + 0.3] = [3.13 , 3.58  , 4.08]\n",
        "\n",
        "embcat[1] = [1.0 , 0.5 , 1.0 , 0.5 , 0.9 , 0.1]\n",
        "\n",
        "hprebn[1,0] = [1.0*0.1 + 0.5 * 0.4...] benzer şekilde hesaplanır\n",
        "hprebn[1] = [3.08 , 3.48 , 3.88]\n",
        "\n"
      ],
      "metadata": {
        "id": "UasdBwQJqXmB"
      }
    },
    {
      "cell_type": "code",
      "source": [
        "hprebn = torch.tensor([\n",
        "    [3.13,3.58,4.08],\n",
        "    [3.08,3.48,3.88]\n",
        "] , dtype= torch.float32)"
      ],
      "metadata": {
        "id": "9wxtLZaWpPi1"
      },
      "execution_count": null,
      "outputs": []
    },
    {
      "cell_type": "markdown",
      "source": [
        "# 5.BATCHNORM\n",
        "\n",
        "--- Girişleri Normalize etmek"
      ],
      "metadata": {
        "id": "4mTmVnFnvGvB"
      }
    },
    {
      "cell_type": "markdown",
      "source": [
        "## 1.Ortalama Almak"
      ],
      "metadata": {
        "id": "Cb3S54tJGGTi"
      }
    },
    {
      "cell_type": "code",
      "source": [
        "bnmeani = hprebn.mean(0 , keepdim = True)\n",
        "# bnmeani[0] = (3.13 + 3.08) / 2  = 3.105\n",
        "# bnmeani[1] = (3.58 + 3.48) / 2 = 3.53\n",
        "# bnmeani[2] = (4.08 + 3.88) / 2 = 3.98\n",
        "#bnmeani= tensor([[3.1050, 3.5300, 3.9800]])\n",
        "bnmeani\n"
      ],
      "metadata": {
        "colab": {
          "base_uri": "https://localhost:8080/"
        },
        "id": "-Idtf7wxrJpa",
        "outputId": "300cad61-fc12-49b4-8ac6-b5508f5d3ea5"
      },
      "execution_count": null,
      "outputs": [
        {
          "output_type": "execute_result",
          "data": {
            "text/plain": [
              "tensor([[3.1050, 3.5300, 3.9800]])"
            ]
          },
          "metadata": {},
          "execution_count": 10
        }
      ]
    },
    {
      "cell_type": "markdown",
      "source": [
        "## 2.Fark ve Kare"
      ],
      "metadata": {
        "id": "mD7bZiuzGKKp"
      }
    },
    {
      "cell_type": "code",
      "source": [
        "bndiff = hprebn - bnmeani\n",
        "# bndiff[0] = [3.13 - 3.105 , 3.58 - 3.53 , 4.08 - 3.98] = [0.025 , 0.05 , 0.1]\n",
        "# bndiff[1] = [3.08 - 3.105 , 3.48 - 3.53 , 3.88 - 3.98] = [-0.025 , -0.05, -0.1]\n",
        "\n",
        "bndiff2 = bndiff**2\n",
        "# bndiff2[0] = [0.000625,0.0025,0.01]\n",
        "# bndiff2[1] = [0.000625,0.0025,0.01]\n",
        "bndiff2"
      ],
      "metadata": {
        "id": "zu_6teBive26",
        "colab": {
          "base_uri": "https://localhost:8080/"
        },
        "outputId": "720a355a-b09d-4bfe-eeaf-bc095c76616b"
      },
      "execution_count": null,
      "outputs": [
        {
          "output_type": "execute_result",
          "data": {
            "text/plain": [
              "tensor([[0.0006, 0.0025, 0.0100],\n",
              "        [0.0006, 0.0025, 0.0100]])"
            ]
          },
          "metadata": {},
          "execution_count": 11
        }
      ]
    },
    {
      "cell_type": "markdown",
      "source": [
        "## 3.Varyans (Bessel Düzeltmesi)\n",
        "\n",
        "--- Varyans  : bndiff2 nin ortalaması : bessel düzeltmesi ortalama alırken eleman sayısının bir eksiğine bölünür\n"
      ],
      "metadata": {
        "id": "sjEuM2p4IS0N"
      }
    },
    {
      "cell_type": "code",
      "source": [
        "bnvar = 1 / (2-1) * bndiff2.mean(0 , keepdim=True)  # Sütun toplanır eleman sayısının bir eksiğine böleriz\n",
        "\n",
        "#bnvar[0] = 1/1 (0.000625 + 0.000625) = 0.00125\n",
        "# bnvar[1] = 1/1 (0.0025 + 0.0025) = 0.005\n",
        "# bnvar[2] = 1/1(0.01 + 0.01) = 0.02\n",
        "\n",
        "bnvar = [[0.00125,0.005,0.02]]\n",
        "bnvar_inv = (bnvar + 1e-5) ** -0.5\n",
        "# bnvar_inv[0] = (0.00125 + 1e - 5) ^ (-0.5) ≈ 28.28\n",
        "# bnvar_inv[1] = (0.005 + 1e-5) ^(-0.5) ≈ 14.14\n",
        "#bnvar_inv[2] = (0.02 + 1e - 5) ^(0.5) ≈ 7.07\n",
        "bnvar_inv = [[28.28,14.14,7.07]]"
      ],
      "metadata": {
        "id": "adUBwOeuHfjr"
      },
      "execution_count": null,
      "outputs": []
    },
    {
      "cell_type": "markdown",
      "source": [
        "## 4.Normalizasyon"
      ],
      "metadata": {
        "id": "yztsWhvbdJjO"
      }
    },
    {
      "cell_type": "code",
      "source": [
        "bnraw = bndiff * bnvar_inv\n",
        "# bnraw[0] = [0.025 * 28.28 , 0.05*14.14 , 0.1 * 7.07] ≈ [0.707 , 0.707 , 0.707 ]\n",
        "#bnraw[1] = [-0.025 * 28.28 , -0.05 * 14.14 , -0.1 * 7.07] ≈ [-0.707 ,-0.707 , -0.707]"
      ],
      "metadata": {
        "id": "r67zvmG6dIhy"
      },
      "execution_count": null,
      "outputs": []
    },
    {
      "cell_type": "markdown",
      "source": [
        "## 5.Ölçek ve Öteleme\n"
      ],
      "metadata": {
        "id": "chRF8eI7e_M2"
      }
    },
    {
      "cell_type": "code",
      "source": [
        "hpreact = bngain * bnraw + bnbias\n",
        "# bngain = [[1,1,1,]] , bnbias = [0,0,0]\n",
        "# hpreact = bnraw\n",
        "\n",
        "hpreact = torch.tensor([\n",
        "    [0.707,0.707,0.707],\n",
        "    [-0.707,-0.707,-0.707]\n",
        "],dtype = torch.float32)"
      ],
      "metadata": {
        "id": "8tjqk3pXfJL_"
      },
      "execution_count": null,
      "outputs": []
    },
    {
      "cell_type": "markdown",
      "source": [
        "# 6.Tanh Aktivasyonu"
      ],
      "metadata": {
        "id": "NaesAEPzfi0j"
      }
    },
    {
      "cell_type": "code",
      "source": [
        "h = torch.tanh(hpreact)\n",
        "# tanh(0.707) ≈ 0.614 , tanh(-0.707) ≈ -0.614\n",
        "\n",
        "h = torch.tensor([\n",
        "    [0.614,0.614,0.614],\n",
        "    [-0.614,-0.614,-0.614]\n",
        "], dtype = torch.float32)"
      ],
      "metadata": {
        "id": "7o467866fnus"
      },
      "execution_count": null,
      "outputs": []
    },
    {
      "cell_type": "markdown",
      "source": [
        "# 7.İkinci Katman(Linear)"
      ],
      "metadata": {
        "id": "ugiU6cJOgEtt"
      }
    },
    {
      "cell_type": "markdown",
      "source": [
        "logits = h @ W2 + b2\n",
        "Matris Çarpımı = h(2,3) @ W2(3,5) = (2,5)\n",
        "\n",
        "Örnek1 =>\n",
        " h = [[0.614,0.614,0.614],\n",
        "    [-0.614,-0.614,-0.614]]\n",
        "\n",
        "W2 = torch.tensor([\n",
        "    [0.5, 0.4, 0.3, 0.2, 0.1],\n",
        "    [0.6, 0.5, 0.4, 0.3, 0.2],\n",
        "    [0.7, 0.6, 0.5, 0.4, 0.3]\n",
        "], dtype=torch.float32)\n",
        "\n",
        "b2 = torch.tensor([0.1, 0.1, 0.1, 0.1, 0.1], dtype=torch.float32)\n",
        "\n",
        "logits[0,0] = 0.614*0.5 + 0.614*0.6 + 0.614 * 0.7 + 0.1 = 0.307 + 0.3684 + 0.4298 + 0.1 = 1.2052\n",
        "...\n",
        "logits[0] = [1.2052 , 1.0828 , 0.9604 , 0.8380 , 0.7156]\n",
        "\n",
        "Örnek 2 >\n",
        "Aynı hesaplama [-0.614 * 0.5 + -0.614 * 0.6...\n",
        "\n",
        "h[1] = [-1.2052 , -1.0828 , -0.9604 , -0.8380 , -0.7156]"
      ],
      "metadata": {
        "id": "Ra2e9l-IgKhE"
      }
    },
    {
      "cell_type": "code",
      "source": [
        "logits = torch.tensor([\n",
        "    [1.2052, 1.0828, 0.9604, 0.8380, 0.7156],\n",
        "    [-1.2052, -1.0828, -0.9604, -0.8380, -0.7156]\n",
        "], dtype=torch.float32)"
      ],
      "metadata": {
        "id": "XTmWVLJqh1yo"
      },
      "execution_count": null,
      "outputs": []
    },
    {
      "cell_type": "markdown",
      "source": [
        "# 8.Kayıp Hesaplama(Cross - Entropy Loss)"
      ],
      "metadata": {
        "id": "U6_emkjziG47"
      }
    },
    {
      "cell_type": "markdown",
      "source": [
        "## 1 . Sayısal kararlılık için Normalizasyon"
      ],
      "metadata": {
        "id": "XYOVLVzkiQc1"
      }
    },
    {
      "cell_type": "code",
      "source": [
        "logit_maxes = logits.max(1 , keepdim = True).values\n",
        "# logit_maxes[0] = 1.2052 , logit_maxes[1] = 0.7156\n",
        "\n",
        "norm_logits = logits - logit_maxes\n",
        "\n",
        "# norm_logits[0] = [0, -0.1224, -0.2448, -0.3672, -0.4896]\n",
        "# norm_logits[1] = [-0.4896, -0.3672, -0.2448, -0.1224, 0]"
      ],
      "metadata": {
        "id": "ihhutlPDiPFs"
      },
      "execution_count": null,
      "outputs": []
    },
    {
      "cell_type": "markdown",
      "source": [
        "## 2.Softmax"
      ],
      "metadata": {
        "id": "lQMPCRxxi7zE"
      }
    },
    {
      "cell_type": "code",
      "source": [
        "counts = norm_logits.exp()\n",
        "# counts[0] ≈ [1, 0.885, 0.783, 0.692, 0.613]\n",
        "# counts[1] ≈ [0.613, 0.692, 0.783, 0.885, 1]\n",
        "\n",
        "counts_sum = count.sum(1 , keepdim = True)\n",
        "# counts_sum[0] ≈ 3.973, counts_sum[1] ≈ 3.973\n",
        "\n",
        "count_sum_inv = counts_sum ** -1\n",
        "# counts_sum_inv ≈ [0.252, 0.252]\n",
        "\n",
        "probs = counts * counts_sum_inv\n",
        "# probs[0] ≈ [0.252, 0.223, 0.197, 0.174, 0.154]\n",
        "# probs[1] ≈ [0.154, 0.174, 0.197, 0.223, 0.252]"
      ],
      "metadata": {
        "id": "zjp5-YWvi-Jk"
      },
      "execution_count": null,
      "outputs": []
    },
    {
      "cell_type": "markdown",
      "source": [
        "## 3.Log Olasılıklar"
      ],
      "metadata": {
        "id": "caMN-C3Ljtyc"
      }
    },
    {
      "cell_type": "code",
      "source": [
        "logprobs =  probs.log()\n",
        "# logprobs[0] ≈ [-1.378, -1.500, -1.623, -1.746, -1.869]\n",
        "# logprobs[1] ≈ [-1.869, -1.746, -1.623, -1.500, -1.378]"
      ],
      "metadata": {
        "id": "MvP3HwxtjwZq"
      },
      "execution_count": null,
      "outputs": []
    },
    {
      "cell_type": "markdown",
      "source": [
        "## 4.Kayıp\n",
        "\n",
        "- Yb = [4 ,3] (hedefler : m , i)\n",
        "- Loss = - logprobs[range(2) , Yb].mean()\n",
        "- logprobs[0,4] = -1.869 , logprobs[1,3] = -1.500\n",
        "- loss = -(-1.869 + -1.500) / 2 = 1.6845"
      ],
      "metadata": {
        "id": "ejJEn3xVkJbA"
      }
    },
    {
      "cell_type": "code",
      "source": [
        "loss = torch.tensor(1.6845)"
      ],
      "metadata": {
        "id": "kYFCb_Cbltul"
      },
      "execution_count": null,
      "outputs": []
    },
    {
      "cell_type": "markdown",
      "source": [
        "# GERİYE DOĞRU MANUEL TÜREV İŞLEMLERİ"
      ],
      "metadata": {
        "id": "WbqRf33FjNrZ"
      }
    },
    {
      "cell_type": "markdown",
      "source": [
        "## KONTROL FONKSİYONU"
      ],
      "metadata": {
        "id": "zSFqmJPqjaJZ"
      }
    },
    {
      "cell_type": "code",
      "source": [
        "# utility function we will use later when comparing manual gradients to PyTorch gradients\n",
        "def cmp(s, dt, t):\n",
        "  ex = torch.all(dt == t.grad).item()\n",
        "  app = torch.allclose(dt, t.grad)\n",
        "  maxdiff = (dt - t.grad).abs().max().item()\n",
        "  print(f'{s:15s} | exact: {str(ex):5s} | approximate: {str(app):5s} | maxdiff: {maxdiff}')"
      ],
      "metadata": {
        "id": "yCvmps23jmrU"
      },
      "execution_count": null,
      "outputs": []
    },
    {
      "cell_type": "markdown",
      "source": [
        "- dt = Manuel hesaplanan gradyan-türev-\n",
        "- t.grad = Pytorch tarafından otomatik hesaplanan türev\n",
        "- ex ---> exact = dt ile t.grad arasındaki tam eşleşme\n",
        "- app---> approximate = dt ile t.grad arasındaki yaklaşık eşleşme\n",
        "- maxdiff = dt ile t.grad arasındaki maximum fark"
      ],
      "metadata": {
        "id": "WGpbzScGjro_"
      }
    },
    {
      "cell_type": "markdown",
      "source": [
        "## Alıştırma Listesi"
      ],
      "metadata": {
        "id": "US1Vj33ojzH9"
      }
    },
    {
      "cell_type": "code",
      "source": [
        "# Exercisess\n",
        "\n",
        "# cmp('logprobs', dlogprobs, logprobs)\n",
        "# cmp('probs', dprobs, probs)\n",
        "# cmp('counts_sum_inv', dcounts_sum_inv, counts_sum_inv)\n",
        "# cmp('counts_sum', dcounts_sum, counts_sum)\n",
        "# cmp('counts', dcounts, counts)\n",
        "# cmp('norm_logits', dnorm_logits, norm_logits)\n",
        "# cmp('logit_maxes', dlogit_maxes, logit_maxes)\n",
        "# cmp('logits', dlogits, logits)\n",
        "# cmp('h', dh, h)\n",
        "# cmp('W2', dW2, W2)\n",
        "# cmp('b2', db2, b2)\n",
        "# cmp('hpreact', dhpreact, hpreact)\n",
        "# cmp('bngain', dbngain, bngain)\n",
        "# cmp('bnbias', dbnbias, bnbias)\n",
        "# cmp('bnraw', dbnraw, bnraw)\n",
        "# cmp('bnvar_inv', dbnvar_inv, bnvar_inv)\n",
        "# cmp('bnvar', dbnvar, bnvar)\n",
        "# cmp('bndiff2', dbndiff2, bndiff2)\n",
        "# cmp('bndiff', dbndiff, bndiff)\n",
        "# cmp('bnmeani', dbnmeani, bnmeani)\n",
        "# cmp('hprebn', dhprebn, hprebn)\n",
        "# cmp('embcat', dembcat, embcat)\n",
        "# cmp('W1', dW1, W1)\n",
        "# cmp('b1', db1, b1)\n",
        "# cmp('emb', demb, emb)\n",
        "# cmp('C', dC, C)"
      ],
      "metadata": {
        "id": "F67qd1shjvh4"
      },
      "execution_count": null,
      "outputs": []
    },
    {
      "cell_type": "markdown",
      "source": [
        "Veri: Xb = [[0, 0, 2], [0, 0, 4]], Yb = [4, 3] (hedefler: m ve i)."
      ],
      "metadata": {
        "id": "t03SpR8dj52C"
      }
    },
    {
      "cell_type": "markdown",
      "source": [
        "İleri Yayılım Sonuçları (Özet):"
      ],
      "metadata": {
        "id": "S5sJR1jvkJex"
      }
    },
    {
      "cell_type": "code",
      "source": [
        "embcat = torch.tensor([[1.0, 0.5, 1.0, 0.5, 0.4, 0.6], [1.0, 0.5, 1.0, 0.5, 0.9, 0.1]], dtype=torch.float32)\n",
        "hprebn = torch.tensor([[3.13, 3.58, 4.08], [3.08, 3.48, 3.88]], dtype=torch.float32)\n",
        "bnmeani = torch.tensor([[3.105, 3.53, 3.98]], dtype=torch.float32)\n",
        "bndiff = torch.tensor([[0.025, 0.05, 0.1], [-0.025, -0.05, -0.1]], dtype=torch.float32)\n",
        "bndiff2 = torch.tensor([[0.000625, 0.0025, 0.01], [0.000625, 0.0025, 0.01]], dtype=torch.float32)\n",
        "bnvar = torch.tensor([[0.00125, 0.005, 0.02]], dtype=torch.float32)\n",
        "bnvar_inv = torch.tensor([[28.28, 14.14, 7.07]], dtype=torch.float32)\n",
        "bnraw = torch.tensor([[0.707, 0.707, 0.707], [-0.707, -0.707, -0.707]], dtype=torch.float32)\n",
        "hpreact = bnraw  # (bngain=1, bnbias=0)\n",
        "h = torch.tanh(hpreact)  # [[0.614, 0.614, 0.614], [-0.614, -0.614, -0.614]]\n",
        "logits = torch.tensor([[1.2052, 1.0828, 0.9604, 0.8380, 0.7156], [-1.2052, -1.0828, -0.9604, -0.8380, -0.7156]], dtype=torch.float32)\n",
        "norm_logits = torch.tensor([[0.0000, -0.1224, -0.2448, -0.3672, -0.4896], [-0.4896, -0.3672, -0.2448, -0.1224, 0.0000]], dtype=torch.float32)\n",
        "probs = torch.tensor([[0.252, 0.223, 0.197, 0.174, 0.154], [0.154, 0.174, 0.197, 0.223, 0.252]], dtype=torch.float32)\n",
        "logprobs = torch.tensor([[-1.378, -1.500, -1.623, -1.746, -1.869], [-1.869, -1.746, -1.623, -1.500, -1.378]], dtype=torch.float32)\n",
        "loss = torch.tensor(1.6845, dtype=torch.float32)"
      ],
      "metadata": {
        "id": "ITyU8LipkEl3"
      },
      "execution_count": null,
      "outputs": []
    },
    {
      "cell_type": "markdown",
      "source": [
        "## 1.Alıştırma\n",
        "\n",
        "- Loss 'un logprobs a göre türevi\n",
        "\n",
        "- cmp('logprobs' , dlogprobs,logprobs)\n"
      ],
      "metadata": {
        "id": "Ulp0uWsnXRAf"
      }
    },
    {
      "cell_type": "markdown",
      "source": [
        "- Ne Yapıyoruz ?\n",
        "\n",
        "dloss / dlogprobs\n",
        "\n",
        "loss = -logprobs[range(2) , Yb].mean()\n",
        "loss = -(logprobs[0,4] , logprobs[1,3]) / 2\n",
        "\n",
        "- Hesaplama\n",
        "\n",
        "loss = -(logprobs[0,4] + logprobs[1,3])/2\n",
        "     = -(-1.869 + -1.500) /2 = 1.6845\n",
        "\n",
        "dloss / dlogprobs[0,4] = -0.5\n",
        "dloss / dlogprobs[1,3] = -0.5\n",
        "\n",
        "Niye ?\n",
        "ax 'in x 'e göre türevi 'a' dır.\n",
        "loss = -(logprobs[0,4] + logprobs[1,3]) / 2 --- > 1/2 katsayılarını dağıtırız.\n",
        "     = -1/2(logprobs[0,4]) + -1/2(logprobs[1,3])\n",
        "\n",
        "!!! n eleman sayısı için türevi -1/n !!!"
      ],
      "metadata": {
        "id": "F89Z6JjHXu1d"
      }
    },
    {
      "cell_type": "code",
      "source": [
        "# Sonuç\n",
        "\n",
        "dlogprobs = torch.zeros_like(logprobs)  # (2,5) 'lik sıfır matrisi oluşturuyoruz\n",
        "dlogprobs[0,4] = -0.5\n",
        "dlogprobs[1,3] = -0.5\n",
        "\n",
        "#dlogprobs = [[0,0,0,0,-0.5],[0,0,0,-0.5,0]]"
      ],
      "metadata": {
        "id": "n-7l1ekLawa3"
      },
      "execution_count": null,
      "outputs": []
    },
    {
      "cell_type": "code",
      "source": [
        "# Kontrol\n",
        "cmp('logprobs' , dlogprobs , logprobs)"
      ],
      "metadata": {
        "id": "ufx9LvBVbU3c"
      },
      "execution_count": null,
      "outputs": []
    },
    {
      "cell_type": "markdown",
      "source": [
        "## 2.Alıştırma\n",
        "- cmp('probs', dprobs , probs)\n",
        "- loss 'un probs a göre türevi"
      ],
      "metadata": {
        "id": "E2Iz0mx0bh0C"
      }
    },
    {
      "cell_type": "markdown",
      "source": [
        "- Ne Yapıyoruz ?\n",
        "\n",
        "logprobs = probs.log()\n",
        "\n",
        "Yani\n",
        "\n",
        "logprobs[i,j] = log(probs[i,j])\n",
        "\n",
        "*Zincir Kuralı = dloss/dprobs = dloss/dlogprobs * dlogprobs/dprobs*\n",
        "\n",
        "**Hesaplama**\n",
        "\n",
        "**Logx 'in türevi 1/x**\n",
        "\n",
        "O halde :\n",
        "\n",
        "- dlogprobs[i,j] / dprobs[i,j] = 1 / probs[i,j]\n",
        "- dloss / dprobs[i,j] = dlogprobs * 1 / probs[i,j]\n",
        "\n",
        "Örnek-1)\n",
        "\n",
        "- dlogprobs[0,4] = -0.5     , probs[0,4] = 0.154\n",
        "- dprobs[0,4] = -0.5 * 1 / 0.154   ≈ -3.247\n",
        "- dprobs[0,j] ---> Diğerleri için türev '0'\n",
        "\n",
        "Örnek-2\n",
        "\n",
        "- dlogprobs[1,3] = -0.5     , probs[1,3] = 0.223\n",
        "- dprobs[1,3] = -0.5 * 1/ 0.223 ≈ -2.242\n",
        "- dprobs[1,j] ---> Diğerleri için grad '0'\n",
        "\n",
        "\n"
      ],
      "metadata": {
        "id": "4tcz9YHxcE3X"
      }
    },
    {
      "cell_type": "code",
      "source": [
        "# Sonuç\n",
        "\n",
        "dprobs = dlogprobs / probs\n",
        "# dprobs = [[0,0,0,0,-3.247],[0,0,0,-2.242,0]]"
      ],
      "metadata": {
        "id": "4zuW8u3-fHmQ"
      },
      "execution_count": null,
      "outputs": []
    },
    {
      "cell_type": "code",
      "source": [
        "# kontrol\n",
        "\n",
        "cmp('probs',dprobs , probs)"
      ],
      "metadata": {
        "id": "nPtInbVHfmN3"
      },
      "execution_count": null,
      "outputs": []
    },
    {
      "cell_type": "markdown",
      "source": [
        "##3.Alıştırma\n",
        "- Loss ' un count_sum_inv ' e göre türevi\n",
        "- cmp('count_sum_inv',dcount_sum_inv,count_sum_inv)"
      ],
      "metadata": {
        "id": "-gDm8Ao1ftYc"
      }
    },
    {
      "cell_type": "markdown",
      "source": [
        "**Ne Yapıyoruz ?**\n",
        "\n",
        "probs = counts * count_sum_inv\n",
        "\n",
        "- Zincir Kuralı : (dloss / dprobs) * (dprobs / dcount_sum_inv)\n",
        "\n",
        "**Hesaplama :**\n",
        "\n",
        "- probs[i,j] = counts[i,j] * count_sum_inv[i]\n",
        "\n",
        "Probs 'un count_sum_inv 'e göre türevi ax 'in x e göre türevini almaktır.Yani\n",
        "\n",
        "dprobs[i,j] / dcount_sum_inv[j] = counts[i,j]\n",
        "\n",
        "**Sonuç :** *dloss / dcount_sum_inv[i] = Σ_j(dprobs[i,j] * counts[i,j])*\n",
        "\n",
        "**Örnek-1**\n",
        "\n",
        "- counts[0] ≈ [1.000,0.885,0.783,0.692,0.613]\n",
        "- dprobs[0] = [0,0,0,0,-3.247]\n",
        "- dcount_sum_inv[0] = [0*1.000 + 0*0.885 + 0*0.783 + 0*0.692 + -3.247*0.613] ≈ -1.990\n",
        "\n",
        "**Örnek-2**\n",
        "\n",
        "- counts[1] ≈ [0.613,0.692,0.783,0.883,1.000]\n",
        "- dprobs[1] = [0,0,0,-2.242,0]\n",
        "- dcount_sum_inv[1] ≈ [0*0.613,0*0.692+0*0.783+(-2.242)*(0.883)+0*1.000] ≈ -1.984\n"
      ],
      "metadata": {
        "id": "GTXOID4NgDlB"
      }
    },
    {
      "cell_type": "code",
      "source": [
        "# sonuç\n",
        "\n",
        "dcount_sum_inv = (dprobs * counts).sum(1 , keepdim = True)\n",
        "# dcount_sum_inv = [[-1.990],[-1.984]]"
      ],
      "metadata": {
        "id": "xcQ1sVPKj9CF"
      },
      "execution_count": null,
      "outputs": []
    },
    {
      "cell_type": "code",
      "source": [
        "# kontrol\n",
        "cmp('count_sum_inv' , dcount_sum_inv,count_sum_inv)"
      ],
      "metadata": {
        "id": "CVI92LUFkSAn"
      },
      "execution_count": null,
      "outputs": []
    },
    {
      "cell_type": "markdown",
      "source": [
        "##4.Alıştırma\n",
        "- loss 'um counts_sum 'a göre türevi\n",
        "- cmp('counts_sum',dcounts_sum,counts_sum)"
      ],
      "metadata": {
        "id": "K0n5kHX7ki_j"
      }
    },
    {
      "cell_type": "markdown",
      "source": [
        "**Ne Yapıyoruz?**\n",
        "counts_sum_inv = counts_sum ** -1\n",
        "\n",
        "- x**-1 'in türevi -1x**-2 dir.\n",
        "\n",
        "**Zincir Kuralı:** (dloss/dcount_sum_inv) / (dcount_sum_inv/dcounts_sum)\n",
        "\n",
        "**Hesaplama:**\n",
        "\n",
        "- *dcount_sum_inv / dcounts_sum = -1 /(counts_sum)**-2*\n",
        "- *dloss / dcounts_sum[i] = dcounts_sum_inv[i] * -1/counts_sum[i]^2*\n",
        "- counts_sum ≈ [3.973,3.973]\n",
        "\n",
        "**Örnek-1:**\n",
        "\n",
        "- dcount_sum_inv[0] = -1.990    , counts_sum[0] = 3.973\n",
        "- dcounts_sum[0] = -1.990 * (-1/(3.973^2)) ≈ -1.990 *(-1/15.785) ≈ 0.126\n",
        "\n",
        "**Örnek-2**\n",
        "- dcount_sum_inv[1] = -1.984      , counts_sum[1] = 3.973\n",
        "- dcounts_sum[1] = -1.984 * (-1/(3.973)^2) ≈ -1.984 * (-1/15.785) ≈ 0.126\n"
      ],
      "metadata": {
        "id": "7_2lv3onkwmp"
      }
    },
    {
      "cell_type": "code",
      "source": [
        "# sonuç\n",
        "dcounts_sum = dcount_sum_inv * (-1/counts_sum**2)\n",
        "# dcounts_sum = [[0.126] , [0.126]]"
      ],
      "metadata": {
        "id": "gUTP33C9n4Z9"
      },
      "execution_count": null,
      "outputs": []
    },
    {
      "cell_type": "code",
      "source": [
        "# kontrol\n",
        "cmp('counts_sum',dcounts_sum , counts_sum)"
      ],
      "metadata": {
        "id": "6z0waa0xoPHF"
      },
      "execution_count": null,
      "outputs": []
    },
    {
      "cell_type": "markdown",
      "source": [
        "## 5.Alıştırma\n",
        "- counts 'a göre türev\n",
        "- cmp('counts' , dcounts , counts)"
      ],
      "metadata": {
        "id": "TU-NgqGfoWVO"
      }
    },
    {
      "cell_type": "markdown",
      "source": [
        "**Ne Yapıyoruz?**\n",
        "- probs = counts * counts_sum_inv\n",
        "- counts_sum = counts.sum(1)\n",
        "- Yani counts'a iki yoldan gradyan gelir\n",
        "\n",
        "1. probs üzerinden : dloss/dcounts = dprobs * dcounts_sum_inv\n",
        "2. counts_sum üzerinden : counts_sum'un gradyanı counts'un her elemanına dağılır.\n",
        "\n",
        "**Hesaplama**\n",
        "\n",
        "-Yol 1:  dprobs[i,j] / dcounts[i,j] = counts_sum_inv[i]\n",
        "\n",
        "\n",
        "- dcounts[i,j] += dprobs[i,j] * counts_sum_inv[i]\n",
        "- counts_sum_inv ≈ [0.252,0.252]\n",
        "- dcounts[0] += [0,0,0,0,-3.247] * 0.252 ≈ [0,0,0,0,-0.818]\n",
        "- dcounts[1] += [0,0,0,-2.242,0] * 0.252 ≈ [0,0,0,-0.565,0]\n",
        "\n",
        "-Yol 2: counts_sum[i] = Σ_j counts[i, j]\n",
        "\n",
        "- dcounts_sum[i] / dcounts[i] = 1\n",
        "- dcounts[i] += dcounts_sum[i]\n",
        "- dcounts_sum ≈ [0.126 , 0.126]\n",
        "- Her eleman için dcounts[0,j] += 0.126 , dcounts[1,j] += 0.126\n",
        "\n",
        "\n",
        "\n"
      ],
      "metadata": {
        "id": "nVxEzM24IN6F"
      }
    },
    {
      "cell_type": "code",
      "source": [
        "# sonuç\n",
        "\n",
        "dcounts = dprobs * dcounts_sum_inv + dcounts_sum\n",
        "# dcounts[0] ≈ [0.126, 0.126, 0.126, 0.126, -0.818 + 0.126] ≈ [0.126, 0.126, 0.126, 0.126, -0.692]\n",
        "# dcounts[1] ≈ [0.126, 0.126, 0.126, -0.565 + 0.126, 0.126] ≈ [0.126, 0.126, 0.126, -0.439, 0.126]"
      ],
      "metadata": {
        "id": "d1fYzX7fPDCt"
      },
      "execution_count": null,
      "outputs": []
    },
    {
      "cell_type": "code",
      "source": [
        "# kontrol\n",
        "cmp('counts',dcounts,counts)"
      ],
      "metadata": {
        "id": "Q85X0ANIPPOl"
      },
      "execution_count": null,
      "outputs": []
    },
    {
      "cell_type": "markdown",
      "source": [
        "## 6.Alıştırma\n",
        "\n",
        "- norm_logits'e göre türev\n",
        "- cmp('norm_logits',dnorm_logits,norm_logits)"
      ],
      "metadata": {
        "id": "3hV5V36bPWfW"
      }
    },
    {
      "cell_type": "markdown",
      "source": [
        "**Ne Yapıyoruz?**\n",
        "\n",
        "- counts = norm_logits.exp()\n",
        "\n",
        "**Zincir Kuralı:** (dloss/dcounts) * (dcounts / dnorm_logits)\n",
        "\n",
        "**Hesaplama**\n",
        "\n",
        "- dcounts[i,j] / dnorm_logits[i,j] = exp(norm_logits[i,j]) = counts[i,j]\n",
        "\n",
        "- dloss / dnorm_logits[i,j] = dcounts[i,j] * counts[i,j]\n",
        "\n",
        "- counts[0] ≈ [1.000,0.885,0.783,0.692,0.613]\n",
        "- dcounts[0] ≈[0.216,0.216,0.216,0.216,-0.692]\n",
        "\n",
        "- dnorm_logits[0] = [0.216*1.000,0.216*0.885,0.216*0.783,0.216*0.692,-0.692*0.613] ≈ [0.216,0.112,0.099,0.087,-0.424]\n",
        "\n",
        "counts[1] ≈ [0.613,0.692,0.783,0.885,1.000]\n",
        "dcounts[1] = [0.216,0.216,0.216,-0.439,0.216]\n",
        "dnorm_logits[1] = [0.216*0.613,0.216*0.692,0.216*0.783,-0.439*0.885,0.216*1.000] = [0.077,0.087,0.099,-0.389,0.216]\n"
      ],
      "metadata": {
        "id": "PQcQBqa1Ps9A"
      }
    },
    {
      "cell_type": "code",
      "source": [
        "# sonuç\n",
        "dnorm_logits = dcounts * counts\n",
        "# dnorm_logits ≈ [[0.126, 0.112, 0.099, 0.087, -0.424], [0.077, 0.087, 0.099, -0.389, 0.126]]"
      ],
      "metadata": {
        "id": "OB26ova3WsHj"
      },
      "execution_count": null,
      "outputs": []
    },
    {
      "cell_type": "code",
      "source": [
        "#kontrol\n",
        "cmp('norm_logits', dnorm_logits, norm_logits)"
      ],
      "metadata": {
        "id": "mFVH0rC_W1Jm"
      },
      "execution_count": null,
      "outputs": []
    },
    {
      "cell_type": "markdown",
      "source": [
        "## 7.Alıştırma\n",
        "\n",
        "- logit_maxes 'e göre türev\n",
        "- cmp('logit_maxes',dlogit_maxes,logit_maxes)\n",
        "\n",
        "**Ne Yapıyoruz?**\n",
        "\n",
        "- norm_logits = logits - logit_maxes\n",
        "\n",
        "!!! logit_maxes[i] sadece norm_logits[i,j] yi etkiler\n",
        "\n",
        "**Hesaplama**\n",
        "\n",
        "- dnorm_logits[i,j] / dlogit_maxes[i] = -1\n",
        "\n",
        "- dloss / dlogit_maxes[i] = Σ_j (dnorm_logits[i, j] * (-1))\n",
        "\n",
        "- dnorm_logits[0] = [0.126,0.112,0.099,0.087,-0.424]\n",
        "\n",
        "- dlogit_maxes[0] = -(0.126 + 0.112+0.099+0.087-0.424) ≈ -0.000\n",
        "\n",
        "- dnorm_logits[1] = [0.077,0.087,0.099,-0.389,0.126]\n",
        "\n",
        "-dlogit_maxes[1] = -(0.077 + 0.087+ 0.099 - 0.389 + 0.126) ≈ -0.000"
      ],
      "metadata": {
        "id": "WsWcvM_hXWd4"
      }
    },
    {
      "cell_type": "code",
      "source": [
        "# sonuç\n",
        "\n",
        "dlogit_maxes = -dnorm_logits.sum(1 , keepdim = True)\n",
        "# dlogit_maxes ≈ [[0], [0]] (sayısal yuvarlama nedeniyle sıfır)"
      ],
      "metadata": {
        "id": "Eq1NaorbZTwK"
      },
      "execution_count": null,
      "outputs": []
    },
    {
      "cell_type": "code",
      "source": [
        "# kkontrol\n",
        "cmp('logit_maxes', dlogit_maxes, logit_maxes)"
      ],
      "metadata": {
        "id": "4O5aQb-sZh-q"
      },
      "execution_count": null,
      "outputs": []
    },
    {
      "cell_type": "markdown",
      "source": [
        "Not : logit_maxes 'in gradyanı 0(sıfır) çıkar , çünkü softmax sayısal kararlılık için kaydırma yapar  ve toplam gradyan sıfırlanır"
      ],
      "metadata": {
        "id": "eVK-Xr61ZlXa"
      }
    },
    {
      "cell_type": "markdown",
      "source": [
        "## 8.Alıştırma\n",
        "\n",
        "- logits' e göre türev\n",
        "- cmp('logits',dlogits,logits)"
      ],
      "metadata": {
        "id": "GN4qsAntZ52F"
      }
    },
    {
      "cell_type": "markdown",
      "source": [
        "**Ne yapıyoruz ?**\n",
        "\n",
        "- norm_logits = logits - logit_maxes\n",
        "- dnorm_logits[i,j] / dlogits[i,j] = 1\n",
        "\n",
        "**Zincir Kuralı:** (dloss/dnorm_logits) * (dnorm_logits/dlogits)\n",
        "\n",
        "**Hesaplama**\n",
        "\n",
        "dloss / dlogits[i,j] = dnorm_logits[i,j] + dlogits_maxes[i] * dnorm_logits[i,j] / dlogits[i,j] = dlogit_maxes = 0 --- > Bu yüzden dlogits = dnorm_logits\n",
        "\n"
      ],
      "metadata": {
        "id": "KSu9OA-QaHrd"
      }
    },
    {
      "cell_type": "code",
      "source": [
        "# sonuç\n",
        "dlogits = dnorm_logits.clone()"
      ],
      "metadata": {
        "id": "ICgPE8Ewe0CY"
      },
      "execution_count": null,
      "outputs": []
    },
    {
      "cell_type": "code",
      "source": [
        "#kontrol\n",
        "cmp('logits',dlogits,logits)"
      ],
      "metadata": {
        "id": "kV4FPefqfEmg"
      },
      "execution_count": null,
      "outputs": []
    },
    {
      "cell_type": "markdown",
      "source": [
        "## 9.Alıştırma\n",
        "\n",
        "- h'ye göre türev\n",
        "- cmp('h',dh,h)"
      ],
      "metadata": {
        "id": "213P5At1fLFo"
      }
    },
    {
      "cell_type": "markdown",
      "source": [
        "**Ne Napıyoruz?**\n",
        "\n",
        "- logits = h @ W2 + b2\n",
        "- dlogits[i,j] / dh[i,j] = W2[k,j]"
      ],
      "metadata": {
        "id": "JkZSlvqlfxSA"
      }
    },
    {
      "cell_type": "markdown",
      "source": [
        "**Hesaplama**\n",
        "\n",
        "- dloss / dh[i,j] = Σ_j (dlogits[i,j] * W2[k,j] )\n",
        "\n",
        "- dlogits[0] = [0.126,0.112,0.099,0.087,-0.424]\n",
        "- dlogits[1]= [0,077,0.087,0.099,-0.389,0.126]\n",
        "\n",
        "- W2 =[\n",
        "      [0.5,0.4,0.3,0.2,0.1],\n",
        "      [0.6,0.5,0.4,0.3,0.2],\n",
        "      [0.7,0.6,0.5,0.4,0.3]] ----> 3x5 'lik matris\n",
        "Transpose işlemi\n",
        "- W2_T = [\n",
        "  [0.5,0.6,0.7],\n",
        "  [0.4,0.5,0.6],\n",
        "  [0.3,0.4,0.5],\n",
        "  [0.2,0.3,0.4],\n",
        "  [0.1,0.2,0.3]\n",
        "  ]-----> 5x3 'lik matris\n",
        "\n",
        "dh = dnorm_logits @ W2_T\n",
        "- dh[0,0] = [0.126*0.5 + 0.112*0.4 + 0.099*0.3 + 0.087*0.2 + (-.0.424)*0.1] ≈  [0.063 + 0.045 + 0.030 + 0.017 - 0.042] ≈ 0.113\n",
        "\n",
        "- dh[0,1] = [0.126*0.6 + 0.112 * 0.5 + 0.099 * 0.4 + 0.087 * 0.3 + (-0.424)* 0.2] ≈ 0.113\n",
        "\n",
        "- dh[0,2] = [0.126 * 0.7 + 0.112 * 0.6 + 0.099 * 0.5 + 0.087 * 0.4 + (-0.424)*0.3] ≈ [0.0882 + 0.0672 + 0.0495 + 0.0348 - 0,1272] ≈  0.114\n",
        "\n",
        "- dh[1,0] = [0,077*0.5,0.087*0.4,0.099*0.3,-0.389*0.2,0.126*0.1] = [0.039 +0.035 + 0.030 -0.078 + 0.013 ] ≈ 0.039"
      ],
      "metadata": {
        "id": "8hEIhCQSgUrH"
      }
    },
    {
      "cell_type": "code",
      "source": [
        "# Sonuç\n",
        "\n",
        "dh = dnorm_logits @ W2 .T()\n",
        "#dh ≈ [[0.113 , 0.113 , 0.152],[0.058,0.072,0.085]]"
      ],
      "metadata": {
        "id": "UAIN6jgI4OOW"
      },
      "execution_count": null,
      "outputs": []
    },
    {
      "cell_type": "code",
      "source": [
        "# kontrol\n",
        "cmp('h',dh,h)"
      ],
      "metadata": {
        "id": "DRYpEvWR4oMR"
      },
      "execution_count": null,
      "outputs": []
    },
    {
      "cell_type": "markdown",
      "source": [
        "## 10.Alıştırma\n",
        "- W2 'ye göre türev\n",
        "- cmp('W2',dW2 , W2)"
      ],
      "metadata": {
        "id": "avZx47jR4tid"
      }
    },
    {
      "cell_type": "markdown",
      "source": [
        "**Ne Yapıyoruz?**\n",
        "\n",
        "logits = h @ W2 + b2\n",
        "\n",
        "**Zincir Kuralı :**  *dloss/ dW2[k,j] = (dloss / dlogits[i,j]) * dlogits[i,j] / dW2[k,j]*\n",
        "\n",
        "- dlogits[i,j] / dW2[k,j] = h[i,k] --- > h.T()\n",
        "\n",
        "- dloss / dW2[k,j] = Σ_i(dlogits[i,j]* h[i,k])\n",
        "\n",
        "- dW2 = h.T() @ dlogits\n",
        "\n",
        "**Hesaplama**\n",
        "\n",
        "h = [\n",
        "  [0.614 , 0.614 , 0.614],\n",
        "  [-0.614 , -0.614 , -0.614]\n",
        "] ---> (2x3) 'lük matris\n",
        "\n",
        "h_T = [\n",
        "  [0.614,-0.614],\n",
        "  [0.614, -0.614],\n",
        "  [0.614 , -0.614]\n",
        "] ---> (3x2) 'lik matris\n",
        "\n",
        "dlogits = [\n",
        "  [0.126,  0.112 , 0.099 , 0.087,-0.424],\n",
        "  [0.077 , 0.087 , 0.099, -0.389, 0.126]\n",
        "] ---> (2x5) 'lik matris\n",
        "\n",
        "**Neden Transpose**\n",
        "- W2 nin boyutu (3,5) Yani dW2 'de (3,5) olmalı\n",
        "- h(2,3) ve dlogits (2,5) çarpıldığında ;\n",
        "- h.T (3,2) ile dlogits(2,5) çarpıldığında (3,5) lik bir matris üretir.\n",
        "\n",
        "**Örnek-1**\n",
        "\n",
        "- dW2[0,0] = [0.614 * 0.126 + -0.614 * 0.077] = [0.077 - 0.047 ] = [0.030]\n",
        "\n",
        "- dW2[0,1] = [0.614*0.112 + -0.614 * 0.087] = [0.069 - 0.053 ] = [0.016]\n"
      ],
      "metadata": {
        "id": "ZCbn-0SP5OBD"
      }
    },
    {
      "cell_type": "code",
      "source": [
        "# Sonuç\n",
        "dW2 = h.t() @ dlogits\n",
        "# dW2 ≈ [[0.030, 0.028, 0.026, -0.077, 0.029],\n",
        "#        [0.030, 0.028, 0.026, -0.077, 0.029],\n",
        "#        [0.030, 0.028, 0.026, -0.077, 0.029]]\n"
      ],
      "metadata": {
        "id": "OgHubPbrNJPT"
      },
      "execution_count": null,
      "outputs": []
    },
    {
      "cell_type": "code",
      "source": [
        "# kontrol\n",
        "\n",
        "cmp('W2' ,dW2 ,W2)"
      ],
      "metadata": {
        "id": "qUJg9uydNXa7"
      },
      "execution_count": null,
      "outputs": []
    },
    {
      "cell_type": "markdown",
      "source": [
        "## 11.Alıştırma\n",
        "\n",
        "- b2 'ye göre türev\n",
        "- cmp('b2',db2,b2)"
      ],
      "metadata": {
        "id": "tpCmbM3MNdJL"
      }
    },
    {
      "cell_type": "markdown",
      "source": [
        "**Ne Yapıyoruz?**\n",
        "\n",
        "- logits = h @ W2 + b2\n",
        "- b2 (5,) boyutunda bir vektör\n",
        "\n",
        "- dloss / db2[j] = Σ_i(dloss/dlogits[i,j])\n",
        "\n",
        "**Hesaplama**\n",
        "\n",
        "- Zincir Kuralı : dloss/dlogits * dlogits/db2\n",
        "\n",
        "- dlogits[i,j] / db2[j] = 1\n",
        "- dloss / db2[j] = Σ_i dlogits[i, j]\n",
        "\n",
        "**Örnek:**\n",
        "\n",
        "- dlogits = [[0.126, 0.112, 0.099, 0.087, -0.424], [0.077, 0.087, 0.099, -0.389, 0.126]]\n",
        "\n",
        "db2[0] = dlogits[0,0] + dlogits[1,0] = 0.126 + 0.077 = 0.203\n",
        "db2[1] = dlogits[0,1] + [1,1] = 0.112 + 0.087 = 0.199 ..."
      ],
      "metadata": {
        "id": "htG47G1aNr1l"
      }
    },
    {
      "cell_type": "code",
      "source": [
        "# Sonuç\n",
        "\n",
        "db2 = dlogits.sum(0)\n",
        "# db2 ≈ [0.203, 0.199, 0.198, -0.302, -0.298]"
      ],
      "metadata": {
        "id": "DEXUw-VzJTgw"
      },
      "execution_count": null,
      "outputs": []
    },
    {
      "cell_type": "code",
      "source": [
        "# kontrol\n",
        "cmp('b2',db2 , b2)"
      ],
      "metadata": {
        "id": "wD2vAfgrJaZe"
      },
      "execution_count": null,
      "outputs": []
    },
    {
      "cell_type": "markdown",
      "source": [
        "## 12.Alıştırma\n",
        "- hpreact ' e göre türev"
      ],
      "metadata": {
        "id": "Vb7ebURoJfkL"
      }
    },
    {
      "cell_type": "markdown",
      "source": [
        "**Ne yapıyoruz ?**\n",
        "\n",
        "h = torch.tanh(hpreact)\n",
        "\n",
        "dloss/dhpreact[i,j] = dloss/dh[i,j] * dh[i,j] / dhpreact[i,j]\n",
        "\n",
        "**Hesaplama**\n",
        "\n",
        "dh[i,j] / dhpreact[i,j] = 1 - tanh(hpreact[i,j]^2) = 1 - h[i,j]^2\n",
        "\n",
        "dloss/ dhpreact[i,j] = dh[i,j] * (1 - h[i,j]^2)\n",
        "\n",
        "**Örnek-1**\n",
        "\n",
        "- h = [\n",
        "  [0.614,0.614,0.614],\n",
        "  [-0.614,-0.614,-0.614]\n",
        "]\n",
        "\n",
        "- 1 - h^2 = [1- 0.614^2 ,...] = [0.623,0.623,0.623]\n",
        "\n",
        "- dh = [\n",
        "  [0.113,0.133,0.152],\n",
        "  [0.058,0.072,0.085]\n",
        "]\n",
        "\n",
        "- dpreact[0,0] = 0.113 * 0.623 = 0.070\n",
        "- dpreact[0,1] = 0.133 * 0.623 = 0.083\n",
        ".\n",
        ".\n",
        ".\n",
        "\n",
        "\n"
      ],
      "metadata": {
        "id": "Cf4T3VWXKfju"
      }
    },
    {
      "cell_type": "code",
      "source": [
        "# Sonuç\n",
        "dhpreact = dh * (1-h**2)\n",
        "\n",
        "# dhpreact ≈ [[0.070, 0.083, 0.095], [0.036, 0.045, 0.053]]"
      ],
      "metadata": {
        "id": "IJOtvAx_Nnwl"
      },
      "execution_count": null,
      "outputs": []
    },
    {
      "cell_type": "code",
      "source": [
        "# Kontrol\n",
        "cmp('hpreact', dhpreact,hpreact)"
      ],
      "metadata": {
        "id": "V_fGfX6-N1B3"
      },
      "execution_count": null,
      "outputs": []
    },
    {
      "cell_type": "markdown",
      "source": [
        "## 13.Alıştırma\n",
        "\n",
        "- bngain 'e göre türev"
      ],
      "metadata": {
        "id": "sN5huwSpN0VZ"
      }
    },
    {
      "cell_type": "markdown",
      "source": [
        "** Ne Yapıyoruz **\n",
        "\n",
        "- hpreact = bngain * bnraw + bnbias\n",
        "\n",
        "- bngain (1,3) boyutunda\n",
        "\n",
        "*dloss/ dbngain = dloss/dhpreact * dhpreact * dbngain*\n",
        "\n",
        "**Hesaplama**\n",
        "\n",
        "- dhpreact[i,j] / dbngain[0,j] = bnraw[i,j]\n",
        "\n",
        "- dloss / dbngain[0,j] = Σ_i(dhpreact[i,j] * bnraw[i,j])\n",
        "\n",
        "**Örnek-1**\n",
        "\n",
        "- bnraw = [\n",
        "  [0.707,0.707,0.707],\n",
        "  [-0.707,-0.707,-0.707]\n",
        "]\n",
        "\n",
        "- dhpreact = [\n",
        "  [0.070,0.083,0.095],\n",
        "  [0.036,0.045,0.053]\n",
        "]\n",
        "\n",
        "dbngain[0,0] = 0.070 * 0.707 + 0.036*-0.707 = 0.050 - 0.025 = 0.025\n",
        "...\n"
      ],
      "metadata": {
        "id": "4ip3bXRhODMK"
      }
    },
    {
      "cell_type": "code",
      "source": [
        "# Sonuç\n",
        "\n",
        "dbngain = (dhpreact * bngain).sum(0, keepdim = True)"
      ],
      "metadata": {
        "id": "wb3Y6Yw8OBuZ"
      },
      "execution_count": null,
      "outputs": []
    },
    {
      "cell_type": "code",
      "source": [
        "# kontrol\n",
        " cmp('bngain' , dbngain,bngain)"
      ],
      "metadata": {
        "id": "-z5sUfYZP0qO"
      },
      "execution_count": null,
      "outputs": []
    },
    {
      "cell_type": "markdown",
      "source": [
        "## 14.Alıştırma\n",
        "\n",
        "- bnbias ' a göre türev"
      ],
      "metadata": {
        "id": "6B74gAS6P5vJ"
      }
    },
    {
      "cell_type": "markdown",
      "source": [
        "**Ne Yapıyoruz?**\n",
        "\n",
        "- dhpreact[i,j] / dbnbias[0,j] = 1\n",
        "\n",
        "- dloss / dbnbias[0,j] = Σ_i dhpreact[i, j]\n",
        "\n",
        "** Hesaplama **\n",
        "\n",
        "dbnbias[0,0] = dhpreact[0,0] + dpreact[1,0] = 0.070 + 0.036 = 0.106"
      ],
      "metadata": {
        "id": "yK6OqtkjQBKQ"
      }
    },
    {
      "cell_type": "code",
      "source": [
        "# Sonuç\n",
        "\n",
        "dbnbias = dpreact.sum(0, keepdim = True)\n",
        "# dbnbias ≈ [[0.106, 0.128, 0.148]]\n"
      ],
      "metadata": {
        "id": "HTNJv5VVQk_J"
      },
      "execution_count": null,
      "outputs": []
    },
    {
      "cell_type": "markdown",
      "source": [
        "## 15.Alıştırma\n",
        "\n",
        "- bnraw 'a göre türev"
      ],
      "metadata": {
        "id": "oWTYxqx7QuGw"
      }
    },
    {
      "cell_type": "markdown",
      "source": [
        "**Ne Yapıyoruz?**\n",
        "\n",
        "- hpreact = bngain * bnraw + bnbias\n",
        "\n",
        "- dhpreact[i,j] / dbnraw[i,j] = bngain[0,j]\n",
        "\n",
        "** Hesaplama **\n",
        "\n",
        "- bngain = [[1,1,1]]\n",
        "\n",
        "Yani : dloss / draw[i,j] = dhpreact[i,j] * bngain[0,j] = dhpreact[i,j]"
      ],
      "metadata": {
        "id": "OfjiKdDYQy8M"
      }
    },
    {
      "cell_type": "code",
      "source": [
        "# Sonuç\n",
        "\n",
        "dbnraw = dhpreact * bngain\n",
        "# dbnraw ≈ [[0.070, 0.083, 0.095], [0.036, 0.045, 0.053]]"
      ],
      "metadata": {
        "id": "XTZQ0dIcRb-m"
      },
      "execution_count": null,
      "outputs": []
    },
    {
      "cell_type": "code",
      "source": [
        "# kontrol\n",
        "cmp('bnraw',dbnraw , bnraw)"
      ],
      "metadata": {
        "id": "BV53gYFBRkI9"
      },
      "execution_count": null,
      "outputs": []
    },
    {
      "cell_type": "markdown",
      "source": [
        "## 16.Alıştırma\n",
        "\n",
        "- bnvar_inv ' e göre türev"
      ],
      "metadata": {
        "id": "Sbz5Q8_gRqzO"
      }
    },
    {
      "cell_type": "markdown",
      "source": [
        "**Ne Yapıyoruz?**\n",
        "- bnraw= bndiff * bnvar_inv\n",
        "- dbnraw[i,j] / dbnvar_inv[0,j] = bndiff[i,j]\n",
        "\n",
        "**Hesaplama**\n",
        "\n",
        "- dloss / dbnvar_inv = Σ_i(dbnraw[i,j] * bndiff[i,j])\n",
        "\n",
        "- bndiff = [\n",
        "  [0.025,0.05,0.1],\n",
        "  [-0.025 ,-0.05,-0.1]\n",
        "]\n",
        "\n",
        "- dbnraw = [\n",
        "  [0.070,0.083,0.095],\n",
        "  [0.036,0.045,0.053]\n",
        "]\n",
        "\n",
        "dbnvar_inv[0,0] = 0.070 * 0.025 + 0.036 *(-0.025) = 0.00175 - 0.0009 = 0.00085\n",
        "..."
      ],
      "metadata": {
        "id": "Ld2rMpJ2RxnK"
      }
    },
    {
      "cell_type": "code",
      "source": [
        "# Sonuç\n",
        "\n",
        "dbnvar_inv = (bnraw * bndiff).sum(0,keepdim = True)\n",
        "# dbnvar_inv ≈ [[0.00085, 0.00165, 0.00320]]"
      ],
      "metadata": {
        "id": "FOoDTNSGXPkw"
      },
      "execution_count": null,
      "outputs": []
    },
    {
      "cell_type": "code",
      "source": [
        "# kontrol\n",
        "cmp('bnvar_inv',dbnvar_inv,bnvar_inv)"
      ],
      "metadata": {
        "id": "kPVJMAHHXYOJ"
      },
      "execution_count": null,
      "outputs": []
    },
    {
      "cell_type": "markdown",
      "source": [
        "## 17.Alıştırma\n",
        "\n",
        "- bnvar ' a göre türev"
      ],
      "metadata": {
        "id": "FIzAYUuiXeav"
      }
    },
    {
      "cell_type": "markdown",
      "source": [
        "**Ne Yapıyoruz?**\n",
        "\n",
        "- bnvar_inv = (bnvar + 1e-5) ** -0.5\n",
        "\n",
        "- dbnvar_inv / dbnvar = -0.5 * (bnvar + 1e-5)**-1.5\n",
        "\n",
        "**Hesaplama**\n",
        "\n",
        "**Örnek-1**\n",
        "- bnvar = [\n",
        "  [0.00125,0.005,0.02]\n",
        "]\n",
        "\n",
        "- dbnvar_inv[0,0] / dbnvar[0,0] = -0.5*(0.00125 + 1e-5)^(-1.5) =  -0.5 *(0.00126)^(-1.5) = -314.27\n",
        "\n",
        "- dbnvar[0,0] = dbnvar_inv[0,0] * (-0.5 * (bnvar[0,0] + 1e-5)^(-1.5)) = 0.00085*(-314.27) = -0.267"
      ],
      "metadata": {
        "id": "NdHkGJUQXiRo"
      }
    },
    {
      "cell_type": "code",
      "source": [
        "# sonuç\n",
        "dbnvar = dbnvar_inv * (-0.5*(bnvar + 1e-5)**-1.5)\n",
        "# dbnvar ≈ [[-0.267, -0.165, -0.080]]"
      ],
      "metadata": {
        "id": "-RLXuWuFZEK4"
      },
      "execution_count": null,
      "outputs": []
    },
    {
      "cell_type": "code",
      "source": [
        "# kontrol\n",
        "cmp('bnvar',dbnvar,bnvar)"
      ],
      "metadata": {
        "id": "FbDlHIWwZYVu"
      },
      "execution_count": null,
      "outputs": []
    },
    {
      "cell_type": "markdown",
      "source": [
        "## 18.Alıştırma\n",
        "\n",
        "- bndiff2 'ye göre türev"
      ],
      "metadata": {
        "id": "iZf4mTHrZdOi"
      }
    },
    {
      "cell_type": "markdown",
      "source": [
        "** Ne yapıyoruz?**\n",
        "\n",
        "- bnvar = (1/(n-1)) * bndiff2.sum(0,keepdim = True)\n",
        "\n",
        "- dbnvar[0,j] / dbndiff2[i,j] = 1/(n-1) = 1(2-1) = 1\n",
        "\n",
        "** Hesaplama **\n",
        "\n",
        "- dloss / dbndiff2[i,j] = dbnvar[0,j] * 1\n",
        "- dbndiff2[i,j] = dbnvar[0,j]\n"
      ],
      "metadata": {
        "id": "8zrglYuVZpDU"
      }
    },
    {
      "cell_type": "code",
      "source": [
        "# Sonuç\n",
        "\n",
        "dbndiff2 = torch.zeros_like(bndiff2)\n",
        "dbndiff2[:,:] = dbnvar\n",
        "# dbndiff2 ≈ [[-0.267, -0.165, -0.080], [-0.267, -0.165, -0.080]]"
      ],
      "metadata": {
        "id": "zT1lFwTJZnYC"
      },
      "execution_count": null,
      "outputs": []
    },
    {
      "cell_type": "code",
      "source": [
        "# kontrol\n",
        "cmp('bndiff2',dbndiff2,bndiff2)"
      ],
      "metadata": {
        "id": "xPF5ZfSnam_d"
      },
      "execution_count": null,
      "outputs": []
    },
    {
      "cell_type": "markdown",
      "source": [
        "## 19.Alıştırma\n",
        "\n",
        "- bndiff 'e göre türev"
      ],
      "metadata": {
        "id": "33TtCo3fatrv"
      }
    },
    {
      "cell_type": "markdown",
      "source": [
        "** Ne yapıyoruz?**\n",
        "\n",
        "-1.Yol bndiff2 = bndiff ** 2\n",
        "- 2.Yol bnraw = bndiff * bnvar_inv\n",
        "\n",
        "İki yoldan türev gelir\n",
        "\n",
        "1. bndiff2 üzerinden ; dbndiff2[i,j] / dbndiff[i,j] = 2.bndiff[i,j]\n",
        "\n",
        "\n",
        "2. bnraw üzerinden ; dbnraw[i,j] / dbndiff[i,j] = bnvar_inv[0,j]\n",
        "\n",
        "**Hesaplama**\n",
        "\n",
        "- dloss / dbndiff[i,j] = dbndiff2[i,j] * (2*bndiff[i,j]) + dbnraw[i,j] * dbvar_inv[0,j]\n",
        "\n",
        "**Örnek-1**\n",
        "\n",
        "- bndiff = [[0.025,0.05,0.1],[-0.025,-0.05,-0.1]]\n",
        "\n",
        "- bnvar_inv = [[28.28,14.14,7.07]]\n",
        "\n",
        "- dbndiff[0,0] = (-0.267*2*0.025) + (0.070*28.28)= -0.01335 + 1.9796 = 1.966\n",
        "\n"
      ],
      "metadata": {
        "id": "gJieYyt8ayco"
      }
    },
    {
      "cell_type": "code",
      "source": [
        "# Sonuç\n",
        "\n",
        "dbndiff = dbndiff2 * (2*bndiff) + dbnraw * bnvar_inv\n",
        "# dbndiff ≈ [[1.966, 1.174, 0.570], [-1.979, -1.186, -0.576]]"
      ],
      "metadata": {
        "id": "oorFXjjhcouR"
      },
      "execution_count": null,
      "outputs": []
    },
    {
      "cell_type": "code",
      "source": [
        "# kontrol\n",
        "\n",
        "cmp('bndiff',dbndiff,bndiff)"
      ],
      "metadata": {
        "id": "L0_oV1xzbJYh"
      },
      "execution_count": null,
      "outputs": []
    },
    {
      "cell_type": "markdown",
      "source": [
        "##20.Alıştırma\n",
        "\n",
        "- bnmean 'a göre türev"
      ],
      "metadata": {
        "id": "vekD84fSc-W9"
      }
    },
    {
      "cell_type": "markdown",
      "source": [
        "**Ne yapıyoruz?**\n",
        "\n",
        "- bndiff = hprebn - bnmeani\n",
        "\n",
        "- dbndiff[i,j] / dbnmeani[0,j] = -1\n",
        "\n",
        "**Hesaplama**\n",
        "\n",
        "- dloss/ dbnmeani[0,j] = Σ_i(dbndiff[i,j] * -1)\n",
        "\n",
        "** Örnek-1**\n",
        "\n",
        "dbnmeani[0,0] = -(1.966 +(-1.979)) = -0.013"
      ],
      "metadata": {
        "id": "K0sEBX5JdDWh"
      }
    },
    {
      "cell_type": "code",
      "source": [
        "# sonuç\n",
        "\n",
        "dbnmeani = -dbndiff.sum(0 , keepdim = True)\n",
        "# dbnmeani ≈ [[-0.013, -0.012, -0.006]]"
      ],
      "metadata": {
        "id": "9rdWB-PEdxci"
      },
      "execution_count": null,
      "outputs": []
    },
    {
      "cell_type": "code",
      "source": [
        "# kontrol\n",
        "\n",
        "cmp('bnmeani', dbnmeani , bnmeani)"
      ],
      "metadata": {
        "id": "Av47ojsSd8Ts"
      },
      "execution_count": null,
      "outputs": []
    },
    {
      "cell_type": "markdown",
      "source": [
        "## 21.Alıştırma\n",
        "\n",
        "- hprebn ' e göre türev"
      ],
      "metadata": {
        "id": "zfaK3NKHeDs1"
      }
    },
    {
      "cell_type": "markdown",
      "source": [
        "**Ne yapıyoruz?**\n",
        "\n",
        "- bndiff = hprebn - bnmeani\n",
        "\n",
        "- dbndiff[i,j] / dhprebn[i,j] = 1\n",
        "\n",
        "- bnmeani = hprebn.mean(0,keepdim=True)\n",
        "\n",
        "**Hesaplama**\n",
        "\n",
        "- dloss / dhprebn[i,j] = dbndiff[i,j] + dbnmeani[0,j] * (1/n)\n",
        "\n",
        "- n = 2 yani 1/n = 0.5\n",
        "\n",
        "- dhprebn[0,0] = 1.966 + (-0.013*0.5) = 1.966 - 0.0065 = 1.9595"
      ],
      "metadata": {
        "id": "rA_AghsReJ-d"
      }
    },
    {
      "cell_type": "code",
      "source": [
        "# sonuç\n",
        "\n",
        "dhprebn = dbndiff + dbnmeani * (1/2)\n",
        "\n",
        "# dhprebn ≈ [[1.9595, 1.168, 0.567], [-1.9855, -1.192, -0.579]]"
      ],
      "metadata": {
        "id": "BIdS2_PEfEks"
      },
      "execution_count": null,
      "outputs": []
    },
    {
      "cell_type": "markdown",
      "source": [
        "## 22.Alıştırma\n",
        "\n",
        "- embcat 'e göre türev"
      ],
      "metadata": {
        "id": "nbnYoZ3lfbqr"
      }
    },
    {
      "cell_type": "markdown",
      "source": [
        "**Ne Yapıyoruz?**\n",
        "\n",
        "- hprebn = embcat @ W1 + b1\n",
        "\n",
        "- dhprebn[i,j] / dembcat[i,k] = W1[k,j]\n",
        "\n",
        "**Hesaplama**\n",
        "\n",
        "- dloss/ dembcat[i,j] =Σ_j(dhprebn[i,j]* W1[k,j])\n",
        "\n",
        "- W1 = [[0.1, 0.2, 0.3], [0.4, 0.5, 0.6], ..., [1.6, 1.7, 1.8]]\n",
        "- dembcat = dhprebn @ W1.t()"
      ],
      "metadata": {
        "id": "PYucr1s1fhHe"
      }
    },
    {
      "cell_type": "code",
      "source": [
        "# sonuç\n",
        "\n",
        "dembcat = dhprebn @ W1.t()\n"
      ],
      "metadata": {
        "id": "Cdm1ea4dgNQb"
      },
      "execution_count": null,
      "outputs": []
    },
    {
      "cell_type": "code",
      "source": [
        "# kontrol\n",
        "cmp('embcat', dembcat,embcat)"
      ],
      "metadata": {
        "id": "FO-3Ui5RgVnp"
      },
      "execution_count": null,
      "outputs": []
    },
    {
      "cell_type": "markdown",
      "source": [
        "## 23.Alıştırma\n",
        "\n",
        "- W1 'e göre türev\n",
        "\n"
      ],
      "metadata": {
        "id": "QQQr68cAgbQM"
      }
    },
    {
      "cell_type": "markdown",
      "source": [
        "**Ne Yapıyoruz?**\n",
        "\n",
        "- dhprebn[i,j] / dW1[k,j] = embcat[i,k]\n",
        "\n",
        "**Hesaplama**\n",
        "\n",
        "- dloss / dW1[k,j] = Σ_i(dprebn[i,j] * embcat[i,k])\n",
        "\n",
        "- dW1 = embcat.t() @ dhprebn"
      ],
      "metadata": {
        "id": "yWPsk53Xgg80"
      }
    },
    {
      "cell_type": "code",
      "source": [
        "# Sonuç\n",
        "dW1 = embcat.t() @ dhprebn"
      ],
      "metadata": {
        "id": "Ng8plagNg-4x"
      },
      "execution_count": null,
      "outputs": []
    },
    {
      "cell_type": "code",
      "source": [
        "# kontrol\n",
        "cmp('W1',dW1 , W1)"
      ],
      "metadata": {
        "id": "UqQMT6f5hBrK"
      },
      "execution_count": null,
      "outputs": []
    },
    {
      "cell_type": "markdown",
      "source": [
        "## 24.Alıştırma\n",
        "\n",
        "- b1 'e göre türev"
      ],
      "metadata": {
        "id": "Vfd5iFUrhGIA"
      }
    },
    {
      "cell_type": "markdown",
      "source": [
        "** Ne Yapıyoruz?**\n",
        "\n",
        "hprebn = embcat @ W1 + b1\n",
        "\n",
        "** Hesaplama **\n",
        "\n",
        "dhprebn[i,j] / db1[j] =1\n",
        "\n",
        "db1[j] = Σ_i dhprebn[i, j]"
      ],
      "metadata": {
        "id": "Mq3Q_qvchKbK"
      }
    },
    {
      "cell_type": "code",
      "source": [
        "#Sonuç\n",
        "\n",
        "db1 = dhprebn.sum(0)"
      ],
      "metadata": {
        "id": "JUd0Wca6hmwM"
      },
      "execution_count": null,
      "outputs": []
    },
    {
      "cell_type": "code",
      "source": [
        "# kontrol\n",
        "cmp('b1',db1,b1)"
      ],
      "metadata": {
        "id": "ggRmXRrHhssi"
      },
      "execution_count": null,
      "outputs": []
    },
    {
      "cell_type": "markdown",
      "source": [
        "## 25.Alıştırma\n",
        "\n",
        "- emb'e göre türev\n"
      ],
      "metadata": {
        "id": "kfZkEHWGhyR6"
      }
    },
    {
      "cell_type": "markdown",
      "source": [
        "**Ne Yapıyoruz?**\n",
        "\n",
        "- embcat = emb.view(emb.shape[0], -1)\n",
        "\n",
        "- emb (2,3,2) , embcat(2,6)\n",
        "\n",
        "**Hesaplama**\n",
        "\n",
        "- dembcat 'i emb 'in şekline geri dönüştürürüz ; demb = dembcat.view(2,3,2)"
      ],
      "metadata": {
        "id": "Ez4ApjGnh4TE"
      }
    },
    {
      "cell_type": "code",
      "source": [
        "# Sonuç\n",
        "\n",
        "demb = dembcat.view(2,3,2)"
      ],
      "metadata": {
        "id": "ntVeSZbRiZX7"
      },
      "execution_count": null,
      "outputs": []
    },
    {
      "cell_type": "code",
      "source": [
        "# kontrol\n",
        "cmp('emb',demb,emb)"
      ],
      "metadata": {
        "id": "OpAd4BaEieBq"
      },
      "execution_count": null,
      "outputs": []
    },
    {
      "cell_type": "markdown",
      "source": [
        "## 26.Alıştırma\n",
        "\n",
        "- C ' ye göre türev"
      ],
      "metadata": {
        "id": "LvJ156iIiuFt"
      }
    },
    {
      "cell_type": "markdown",
      "source": [
        "**Ne Yapıyoruz?**\n",
        "\n",
        "- emb = C[Xb]\n",
        "\n",
        "- C(5,2) , Xb(2,3)\n",
        "\n",
        "- demb 'i C ye geri yansıtırız\n",
        "\n",
        "- Xb = [[0,0,2],[0,0,4]]\n",
        "- C = C[0] , C[2] , C[4] 'e gradyan eklenir\n",
        "\n",
        "- dC[0] += demb[0,0] + demb[0,1] + demb[1,1]\n",
        "\n",
        "- dC[2] += demb[0,2]\n",
        "\n",
        "- dC[4] += demb[1,2]"
      ],
      "metadata": {
        "id": "dRPzzK-tiy-E"
      }
    },
    {
      "cell_type": "code",
      "source": [
        "# sonuç\n",
        "dC = torch.zeros_like(C)\n",
        "for i in range(Xb.shape[0]):\n",
        "  for j in range(Xb.shape[1]):\n",
        "    dC[Xb[i, j]] += demb[i, j]"
      ],
      "metadata": {
        "id": "_GsZAVNRkMXp"
      },
      "execution_count": null,
      "outputs": []
    },
    {
      "cell_type": "code",
      "source": [
        "# kontrol\n",
        "cmp('C', dC, C)"
      ],
      "metadata": {
        "id": "SksQqcDvkS6X"
      },
      "execution_count": null,
      "outputs": []
    }
  ]
}
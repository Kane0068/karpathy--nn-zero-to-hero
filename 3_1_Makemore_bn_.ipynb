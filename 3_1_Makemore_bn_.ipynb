{
  "nbformat": 4,
  "nbformat_minor": 0,
  "metadata": {
    "colab": {
      "provenance": [],
      "authorship_tag": "ABX9TyM7whzGSLT1aRWfXD/nhuAm"
    },
    "kernelspec": {
      "name": "python3",
      "display_name": "Python 3"
    },
    "language_info": {
      "name": "python"
    }
  },
  "cells": [
    {
      "cell_type": "code",
      "execution_count": null,
      "metadata": {
        "id": "Sq8B8lf6CG8J"
      },
      "outputs": [],
      "source": [
        "import torch\n",
        "import matplotlib.pyplot as plt\n",
        "import torch.nn.functional as F"
      ]
    },
    {
      "cell_type": "code",
      "source": [
        "words = open('/content/names.txt','r').read().splitlines()"
      ],
      "metadata": {
        "id": "Xw5dFSJaCZ7r"
      },
      "execution_count": null,
      "outputs": []
    },
    {
      "cell_type": "code",
      "source": [
        "# Build the characters map\n",
        "chars = sorted(list(set(''.join(words))))\n",
        "stoi = {s : i + 1 for i , s in enumerate(chars)}\n",
        "stoi['.'] = 0\n",
        "itos = { i : s for s , i in stoi.items()}\n",
        "vocab_size = len(itos)\n",
        "print(itos)\n",
        "print(vocab_size)"
      ],
      "metadata": {
        "id": "5_F4XaT2CofS",
        "colab": {
          "base_uri": "https://localhost:8080/"
        },
        "outputId": "d56d1fda-a4d8-4c3d-803b-9435a2595ca2"
      },
      "execution_count": null,
      "outputs": [
        {
          "output_type": "stream",
          "name": "stdout",
          "text": [
            "{1: 'a', 2: 'b', 3: 'c', 4: 'd', 5: 'e', 6: 'f', 7: 'g', 8: 'h', 9: 'i', 10: 'j', 11: 'k', 12: 'l', 13: 'm', 14: 'n', 15: 'o', 16: 'p', 17: 'q', 18: 'r', 19: 's', 20: 't', 21: 'u', 22: 'v', 23: 'w', 24: 'x', 25: 'y', 26: 'z', 0: '.'}\n",
            "27\n"
          ]
        }
      ]
    },
    {
      "cell_type": "code",
      "source": [
        "# build dataset\n",
        "block_size = 3   # üçlü harf gruplarını alacağız\n",
        "\n",
        "def build_dataset(words):\n",
        "\n",
        "  X , Y = [] , []     # train ve target kısmı için iki boş liste oluştur\n",
        "\n",
        "  for w in words :     # her kelimenin iterasyonuna başla\n",
        "    context = [0] * block_size    # Seçilen kelime için 0 0 0 ile başlayan bir dizi oluştur\n",
        "    for ch in w + '.':    # Seçilen kelime ve sonunda . için iterasyona başla\n",
        "      ix = stoi[ch]       # harfleri sırasıyla her iterasyon için sayıya dönüştür\n",
        "      X.append(context)   # Context kısmını yani 3 lü sayı dizilerini X e ekle Örneğin ilk olarak 0 0 0 eklensin\n",
        "      Y.append(ix)         # Target kısmına o kelimenin seçilen harfinin sayı haline ekle Örneğin emma için e = 5 target  eklensin\n",
        "      context = context[1:] + [ix]  # Target güncellensin 0 0 0 dan 0 0 5 sonra 0 5 13 sonra 5 13 13 sonra ...\n",
        "\n",
        "  X = torch.tensor(X)\n",
        "  Y = torch.tensor(Y)\n",
        "  print(X.shape , Y.shape)\n",
        "  return X , Y\n",
        "\n",
        "\n",
        "import random\n",
        "random.seed(42)\n",
        "random.shuffle(words)\n",
        "n1 = int(0.8*len(words))\n",
        "n2 = int(0.9*len(words))\n",
        "\n",
        "Xtr , Ytr = build_dataset(words[:n1])  # %80 train  set\n",
        "Xval , Yval = build_dataset(words[n1:n2])     # %10 Validation set\n",
        "Xte , Yte = build_dataset(words[n2:])         # %10 test set"
      ],
      "metadata": {
        "id": "M77lp6wueHE6",
        "colab": {
          "base_uri": "https://localhost:8080/"
        },
        "outputId": "1b4fa8e3-873a-4d51-dca0-71e4fb17b1e1"
      },
      "execution_count": null,
      "outputs": [
        {
          "output_type": "stream",
          "name": "stdout",
          "text": [
            "torch.Size([182625, 3]) torch.Size([182625])\n",
            "torch.Size([22655, 3]) torch.Size([22655])\n",
            "torch.Size([22866, 3]) torch.Size([22866])\n"
          ]
        }
      ]
    },
    {
      "cell_type": "code",
      "source": [
        "# MLP\n",
        "\n",
        "n_embd = 10 # Her harf için 10 boyut yani 10 özelliği olduğunu düşünelim\n",
        "n_hidden = 200  # Gizli katmanda 200 işçi çalışsın --- nöron\n",
        "\n",
        "g = torch.Generator().manual_seed(42)\n",
        "\n",
        "\n",
        "C = torch.randn((vocab_size , n_embd)  , generator=g)   #Her harfe 10 boyutunu belirlemek için random sayılar verdik 27 satır 10 sütun örneğin e = 5 sayısı için 10 tane rastgele verilmiş sayı temsil edecek\n",
        "W1 = torch.randn((n_embd* block_size , n_hidden) , generator=g)   # 10*3 , 200 yani 30 satır 200 sütunluk bir random matris oluşturuldu Neden n_embd*block_size ? --> C[X] yapıldığında seçilen satır sayısı adedinde 3 tane harf ve bu 3 harfe ait 10 adet özellik bulunacak yani örneğin [32,3,10] şeklinde 3 harfteki özellikleri birleştirreceğiz 30 olacak\n",
        "b1 = torch.randn(n_hidden , generator=g)\n",
        "W2 = torch.randn((n_hidden,vocab_size) , generator=g)\n",
        "b2 = torch.randn(vocab_size , generator=g)\n",
        "\n",
        "#BatchNorm Parameters\n",
        "bngain = torch.ones((1 , n_hidden))\n",
        "bnbias = torch.zeros((1 , n_hidden))\n",
        "bnmean_running = torch.zeros((1, n_hidden))\n",
        "bnstd_running = torch.ones((1,n_hidden))\n",
        "\n",
        "parameters = [C , W1 , b1 , W2 , b2 , bngain , bnbias]\n",
        "print(sum(p.nelement() for p in parameters))\n",
        "for p in parameters:\n",
        "  p.requires_grad = True\n"
      ],
      "metadata": {
        "colab": {
          "base_uri": "https://localhost:8080/"
        },
        "id": "EhIYZW2XDyNN",
        "outputId": "c56256fc-84a0-4a9d-b882-f803893e9d02"
      },
      "execution_count": null,
      "outputs": [
        {
          "output_type": "stream",
          "name": "stdout",
          "text": [
            "12297\n"
          ]
        }
      ]
    },
    {
      "cell_type": "markdown",
      "source": [
        "BatchNorm Açıklaması olacak..."
      ],
      "metadata": {
        "id": "XsuHmInpHNq6"
      }
    },
    {
      "cell_type": "code",
      "source": [
        "max_steps = 200000\n",
        "batch_size = 32\n",
        "lossi = []\n",
        "\n",
        "for i in range(max_steps):\n",
        "\n",
        "  # minibatch construct\n",
        "  ix = torch.randint(0 , Xtr.shape[0] , (batch_size , ) , generator = g)\n",
        "  Xb , Yb = Xtr[ix] , Ytr[ix]  # barch X , Y\n",
        "\n",
        "  # forward Pass\n",
        "  emb = C[Xb] #embed the characters into vectors\n",
        "  embcat = emb.view(emb.shape[0], -1)  #concatenate vectors\n",
        "    # Linear Layer\n",
        "\n",
        "  hpreact = embcat @ W1 + b1\n",
        "    # batchnorm layer\n",
        "\n",
        "  bnmeani = hpreact.mean(0 , keepdim = True)\n",
        "  bnstdi = hpreact.std(0,keepdim = True)\n",
        "  hpreact = bngain * (hpreact - bnmeani) / bnstdi + bnbias\n",
        "\n",
        "  with torch.no_grad():\n",
        "    bnmean_running = 0.999 * bnmean_running + 0.001 * bnmeani\n",
        "    bnstd_running = 0.999 * bnstd_running + 0.001 * bnstdi\n",
        "\n",
        "    # ------------------------------------------------------\n",
        "  # Non- linearity\n",
        "  h = torch.tanh(hpreact)\n",
        "  logits = hpreact @ W2 + b2\n",
        "  loss = F.cross_entropy(logits , Yb)\n",
        "\n",
        "  # backward Pass\n",
        "  for p in parameters:\n",
        "    p.grad = None\n",
        "  loss.backward()\n",
        "\n",
        "  #Update\n",
        "  lr = 0.1 if i < 100000 else 0.01\n",
        "  for p in parameters:\n",
        "    p.data += -lr * p.grad\n",
        "\n",
        "\n",
        "  # Parça istatistikleri\n",
        "  if i % 10000 == 0:\n",
        "    print(f'{i : 7d} / {max_steps : 7d} : {loss.item() : .4f}')\n",
        "  lossi.append(loss.log10().item())\n",
        "\n"
      ],
      "metadata": {
        "colab": {
          "base_uri": "https://localhost:8080/"
        },
        "id": "bpgAZsfxOMGb",
        "outputId": "9f7dec1b-8dbf-4ecc-a416-0c61d9dd0597"
      },
      "execution_count": null,
      "outputs": [
        {
          "output_type": "stream",
          "name": "stdout",
          "text": [
            "      0 /  200000 :  31.1360\n",
            "  10000 /  200000 :  2.3515\n",
            "  20000 /  200000 :  2.3349\n",
            "  30000 /  200000 :  2.4241\n",
            "  40000 /  200000 :  2.4142\n",
            "  50000 /  200000 :  2.3471\n",
            "  60000 /  200000 :  2.3638\n",
            "  70000 /  200000 :  2.7129\n",
            "  80000 /  200000 :  2.3414\n",
            "  90000 /  200000 :  2.5462\n",
            " 100000 /  200000 :  2.3685\n",
            " 110000 /  200000 :  2.3658\n",
            " 120000 /  200000 :  2.3641\n",
            " 130000 /  200000 :  2.5956\n",
            " 140000 /  200000 :  2.3559\n",
            " 150000 /  200000 :  2.4562\n",
            " 160000 /  200000 :  2.4219\n",
            " 170000 /  200000 :  2.0701\n",
            " 180000 /  200000 :  2.3215\n",
            " 190000 /  200000 :  2.3295\n"
          ]
        }
      ]
    },
    {
      "cell_type": "code",
      "source": [
        "import matplotlib.pyplot as plt\n",
        "plt.plot(lossi)"
      ],
      "metadata": {
        "colab": {
          "base_uri": "https://localhost:8080/",
          "height": 447
        },
        "id": "JI8NlbBtY4Q-",
        "outputId": "d94200b1-1f76-4e98-ef40-39db40b5b1eb"
      },
      "execution_count": null,
      "outputs": [
        {
          "output_type": "execute_result",
          "data": {
            "text/plain": [
              "[<matplotlib.lines.Line2D at 0x7c54aa9f4bd0>]"
            ]
          },
          "metadata": {},
          "execution_count": 13
        },
        {
          "output_type": "display_data",
          "data": {
            "text/plain": [
              "<Figure size 640x480 with 1 Axes>"
            ],
            "image/png": "[encoded data removed]"
          },
          "metadata": {}
        }
      ]
    },
    {
      "cell_type": "code",
      "source": [
        "# Eğitim sonunda batch norm kalibresi\n",
        "with torch.no_grad():\n",
        "  emb = C[Xtr]\n",
        "  embcat = emb.view(emb.shape[0] , -1)\n",
        "  hpreact = embcat @ W1 + b1\n",
        "  bnmean = hpreact.mean(0 , keepdim = True)\n",
        "  bnstd = hpreact.std(0 , keepdim = True)\n"
      ],
      "metadata": {
        "id": "RRekkVmjUEQT"
      },
      "execution_count": null,
      "outputs": []
    },
    {
      "cell_type": "code",
      "source": [
        "@torch.no_grad()   # türev izlemeyi devredışı bırak\n",
        "\n",
        "def split_loss(split):\n",
        "\n",
        "  x , y = {\n",
        "\n",
        "      'train' : (Xtr,Ytr),\n",
        "      'val' : (Xval , Yval),\n",
        "      'test' : (Xte , Yte)\n",
        "  }[split]\n",
        "\n",
        "  emb = C[x]\n",
        "  embcat = torch.view(emb.shape[0] , -1)\n",
        "  hpreact = embcat @ W1 + b1\n",
        "  hpreact = bngain * (hpreact - bnmean_running) / bnstd_running + bnbias\n",
        "  h = torch.tanh(hpreact)\n",
        "  logits = h @ W2 + b2\n",
        "  loss = F.cross_entropy(logits , y)\n",
        "  print(split , loss.item())\n",
        "\n",
        "\n",
        "split_loss('train')\n",
        "split_loss('val')"
      ],
      "metadata": {
        "id": "FG0HsZKJPy65"
      },
      "execution_count": null,
      "outputs": []
    }
  ]
}
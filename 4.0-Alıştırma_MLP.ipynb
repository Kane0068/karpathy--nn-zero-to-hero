{
  "nbformat": 4,
  "nbformat_minor": 0,
  "metadata": {
    "colab": {
      "provenance": [],
      "authorship_tag": "ABX9TyNNec+h3UuvYaDckrbolHMa"
    },
    "kernelspec": {
      "name": "python3",
      "display_name": "Python 3"
    },
    "language_info": {
      "name": "python"
    }
  },
  "cells": [
    {
      "cell_type": "code",
      "source": [
        "import torch"
      ],
      "metadata": {
        "id": "O2JxV5Dun7CH"
      },
      "execution_count": 1,
      "outputs": []
    },
    {
      "cell_type": "markdown",
      "source": [
        "# 1.Veri Seti Oluşturma"
      ],
      "metadata": {
        "id": "Jl-Z9TdKsOUY"
      }
    },
    {
      "cell_type": "markdown",
      "source": [
        "Text : emma , mia\n"
      ],
      "metadata": {
        "id": "Tg4EPtH_l6XI"
      }
    },
    {
      "cell_type": "code",
      "execution_count": 2,
      "metadata": {
        "id": "yVsTZp9wlvPZ"
      },
      "outputs": [],
      "source": [
        "stoi = {'.': 0, 'a': 1, 'e': 2, 'i': 3, 'm': 4}"
      ]
    },
    {
      "cell_type": "markdown",
      "source": [
        "Context ve Target Oluşturma\n",
        "- Kontekst boyutu 3 olsun (her bir giriş, 3 karakterlik bir kontekst içerir).\n",
        "- Örnek veri için giriş (X) ve çıkış (Y) çiftlerini oluşturalım:\n",
        "> emma için;\n",
        "  - Kontekst: [., ., e] → Hedef: m → [0, 0, 2] → 4\n",
        "  - Kontekst: [., e, m] → Hedef: m → [0, 2, 4] → 4\n",
        "  - Kontekst: [e, m, m] → Hedef: a → [2, 4, 4] → 1\n",
        "  - Kontekst: [m, m, a] → Hedef: . → [4, 4, 1] → 0\n",
        "\n",
        "  > mia için;\n",
        "  - Kontekst: [., ., m] → Hedef: i → [0, 0, 4] → 3\n",
        "  - Kontekst: [., m, i] → Hedef: a → [0, 4, 3] → 1\n",
        "  - Kontekst: [m, i, a] → Hedef: . → [4, 3, 1] → Ch0"
      ],
      "metadata": {
        "id": "_4EH8peemKUL"
      }
    },
    {
      "cell_type": "code",
      "source": [
        "X = torch.tensor([\n",
        "    [0,0,2],   # . . e ---> m\n",
        "    [0,2,4],   # . e m ---> m\n",
        "    [2,4,4],    # e m m --- > a\n",
        "    [4,4,1],   # m m a --- > .\n",
        "    [0,0,4],   #. . m ---- > i\n",
        "    [0,4,3],  # . m i -----> a\n",
        "    [4,3,1]    # m i a -----> .\n",
        "])\n",
        "\n",
        "Y = torch.tensor([4,4,1,0,3,1,0] )  # Hedef karakterlerin indexleri"
      ],
      "metadata": {
        "id": "XO-yIREQmGLN"
      },
      "execution_count": 3,
      "outputs": []
    },
    {
      "cell_type": "markdown",
      "source": [
        "Mini Batch Seçimi\n",
        "\n",
        "- Mini-batch boyutu 2 olsun.Rastgele seçilen indexler [0,4]\n",
        "- Mini batch girş ve çıkışları:"
      ],
      "metadata": {
        "id": "gy7rqSjgoSZz"
      }
    },
    {
      "cell_type": "code",
      "source": [
        "Xb = X[[0,4]]\n",
        "Yb = Y[[0,4]]\n",
        "print(Xb,Yb,Xb.shape , Yb.shape)"
      ],
      "metadata": {
        "colab": {
          "base_uri": "https://localhost:8080/"
        },
        "id": "VbxOdv1Oolim",
        "outputId": "25bcf408-ce66-4665-df0b-ca73787cdcc8"
      },
      "execution_count": 4,
      "outputs": [
        {
          "output_type": "stream",
          "name": "stdout",
          "text": [
            "tensor([[0, 0, 2],\n",
            "        [0, 0, 4]]) tensor([4, 3]) torch.Size([2, 3]) torch.Size([2])\n"
          ]
        }
      ]
    },
    {
      "cell_type": "markdown",
      "source": [
        "# 2.Kullanılacak PARAMETRELER"
      ],
      "metadata": {
        "id": "suHt-6gTsTfH"
      }
    },
    {
      "cell_type": "markdown",
      "source": [
        "Model Parametreleri\n",
        "\n",
        "- Modelin boyutlarını basitleştirelim\n",
        "  1. Gömme vectör boyutu 2 ---> Her karaktere ait 2 boyut(özellik)\n",
        "  2. Birinci katman nöron sayısı : 3 ----> n_hidden\n",
        "  3. Karakter sayısı : 5 (. , a , e , i , m)---> vocab_size\n",
        "  4. Context boyutu : 3 ----> İnput ----> Katmana girişi ---> Context boyutu x gömme vectör boyutu 3 * 2 = 6"
      ],
      "metadata": {
        "id": "esgiBuO-o7D-"
      }
    },
    {
      "cell_type": "code",
      "source": [
        "# Parametreler\n",
        "\n",
        "# Gömme tablosu 5 karakter ve her biri 2 boyutlu\n",
        "C = torch.tensor([\n",
        "    [1.0,  0.5],   # . (0) ---> özellikler boyutlar\n",
        "    [0.2 , 0.8],  # a (1)\n",
        "    [0.4 , 0.6] ,  # e (2)\n",
        "    [0.7 , 0.3] ,  # i (3)\n",
        "    [0.9 , 0.1]   # m (4)\n",
        "], dtype=torch.float32)\n",
        "\n",
        "\n",
        "# ----------1.KATMAN ------------\n",
        "\n",
        "# Birinci katman ( 6 giriş , 3 nöron)\n",
        "\n",
        "W1 = torch.tensor([\n",
        "    [0.1, 0.2, 0.3],\n",
        "    [0.4, 0.5, 0.6],\n",
        "    [0.7, 0.8, 0.9],\n",
        "    [1.0, 1.1, 1.2],\n",
        "    [1.3, 1.4, 1.5],\n",
        "    [1.6, 1.7, 1.8]\n",
        "], dtype=torch.float32)\n",
        "\n",
        "# Bias değerleri\n",
        "b1 = torch.tensor([0.1,0.2,0.3] , dtype=torch.float32)\n",
        "\n",
        "# ----------BATCHNORM--------------\n",
        "\n",
        "bngain = torch.tensor([[1.0,1.0,1.0]] , dtype=torch.float32)\n",
        "bnbias = torch.tensor([[0.0,0.0,0.0]] , dtype=torch.float32)\n",
        "\n",
        "\n",
        "# -------------İKİNCİ KATMAN----------\n",
        "\n",
        "# İkinci katman (3 nöron, 5 çıkış)\n",
        "W2 = torch.tensor([\n",
        "    [0.5, 0.4, 0.3, 0.2, 0.1],\n",
        "    [0.6, 0.5, 0.4, 0.3, 0.2],\n",
        "    [0.7, 0.6, 0.5, 0.4, 0.3]\n",
        "], dtype=torch.float32)\n",
        "\n",
        "b2 = torch.tensor([0.1, 0.1, 0.1, 0.1, 0.1], dtype=torch.float32)"
      ],
      "metadata": {
        "id": "UPu4L7l-oxll"
      },
      "execution_count": 5,
      "outputs": []
    },
    {
      "cell_type": "markdown",
      "source": [
        "# 3.Forward Pass ( ileri Yayılım )\n",
        "\n",
        "Şimdi mini-batch Xb = [[0,0,2],[0,0,4]] , Yb = [4,3] üzerinde ileri yayılımı adım adım hesaplayacağız\n",
        "\n",
        "1. Adım : Gömme (Embedding)\n",
        "\n",
        "- Her karakteri gömme vektörüne dönüştürelim\n",
        "\n",
        "Xb[0] = [0 , 0 , 2] ----> ( .  .  e )\n",
        "\n",
        "C[0] = [1.0 , 0.5] --->  .\n",
        "C[0] = [1.0 , 0.5] --->  .\n",
        "C[2] = [0.4 , 0.6] --->  e\n",
        "\n",
        "Xb[1] = [0 , 0 , 4 ] ----> (. . m)\n",
        "\n",
        "C[0] =[1.0, 5.0]  ---> .\n",
        "C[0] =[1.0 , 0.5] ---> .\n",
        "C[4] =[0.9 , 0.1] ---> m"
      ],
      "metadata": {
        "id": "fWhvMblUsJsN"
      }
    },
    {
      "cell_type": "code",
      "source": [
        "emb = C[Xb]   # (2 , 3 ,2) 2 örnek 3 context 2 boyut\n",
        "#emb[0] = [[1.0,0.5],[1.0,0.5],[0.4,0.6]]\n",
        "#emb[1]  [[1.0,0.5],[1.0,0.5],[0.9,0.1]]"
      ],
      "metadata": {
        "id": "LSUcaa95ned5"
      },
      "execution_count": 6,
      "outputs": []
    },
    {
      "cell_type": "code",
      "source": [
        "emb"
      ],
      "metadata": {
        "colab": {
          "base_uri": "https://localhost:8080/"
        },
        "id": "6W8YEqNMoASV",
        "outputId": "b291726d-43eb-4b57-940c-3976571facc0"
      },
      "execution_count": null,
      "outputs": [
        {
          "output_type": "execute_result",
          "data": {
            "text/plain": [
              "tensor([[[1.0000, 0.5000],\n",
              "         [1.0000, 0.5000],\n",
              "         [0.4000, 0.6000]],\n",
              "\n",
              "        [[1.0000, 0.5000],\n",
              "         [1.0000, 0.5000],\n",
              "         [0.9000, 0.1000]]])"
            ]
          },
          "metadata": {},
          "execution_count": 7
        }
      ]
    },
    {
      "cell_type": "code",
      "source": [
        "# BİRLEŞTİRME (FLATTEN)\n",
        "\n",
        "embcat = emb.view(emb.shape[0],-1)  # (2,6) 2 örnek 2*3 = 6 boyut\n",
        "# embcat[0] = [1.0,0.5,1.0,0.5,0.4,0.6]\n",
        "# embcat[1] = [1.0,0.5,1.0,0.5,0.9,0.1]\n",
        "embcat"
      ],
      "metadata": {
        "colab": {
          "base_uri": "https://localhost:8080/"
        },
        "id": "pH4WjakcoDMO",
        "outputId": "969249ae-d8a1-4195-827e-f219aa8a06f9"
      },
      "execution_count": 7,
      "outputs": [
        {
          "output_type": "execute_result",
          "data": {
            "text/plain": [
              "tensor([[1.0000, 0.5000, 1.0000, 0.5000, 0.4000, 0.6000],\n",
              "        [1.0000, 0.5000, 1.0000, 0.5000, 0.9000, 0.1000]])"
            ]
          },
          "metadata": {},
          "execution_count": 7
        }
      ]
    },
    {
      "cell_type": "markdown",
      "source": [
        "# 4.Birinci Katman ( Linear )\n"
      ],
      "metadata": {
        "id": "2DIN00ndpXnA"
      }
    },
    {
      "cell_type": "markdown",
      "source": [
        "hprebn = embcat @ W1 + b1\n",
        "\n",
        "Matris Çarpımı : embcat (2,6)  @ (6,3) = (2,3)\n",
        "\n",
        "Örnek Matris Çarpımı : embcat[0] = [1.0,0.5,1.0,0.5,0.4,0.6]\n",
        "\n",
        "W1 = tensor([\n",
        "        [0.1, 0.2, 0.3],\n",
        "        [0.4, 0.5, 0.6],\n",
        "        [0.7, 0.8, 0.9],\n",
        "        [1.0, 1.1, 1.2],\n",
        "        [1.3, 1.4, 1.5],\n",
        "        [1.6, 1.7, 1.8]])\n",
        "\n",
        "b1 = [0.1 , 0.2 , 0.3]\n",
        "\n",
        "hprebn = [0,0] = 1.0*0.1+0.5*0.4+1.0*0.7+0.5*1.0+0.4*1.3+0.6*1.6 = 1.1+ 0.2 + 0.7 + 0.5 + 0.52 + 0.96 = 3.03\n",
        "hprebn [0,1] = 1.0*0.2+0.5*0.5+1.0*0.8+0.5*1.1+0.4*1.4+0.6*1.7 = 0.2+0.25+0.8+ 0.55 + 0.56 + 1.02 = 3.38\n",
        "hprebn[0,2] = 1.0*0.3 + 0.5*0.6 + 1.0*0.9 + 0.5*1.2 + 0.4*1.5+ 0.6*1.8 = 0.3 + 0.3 + 0.9 + 0.6 + 0.6 + 1.08 = 3.78\n",
        "\n",
        "Bias Ekleme = hprebn[0] = [3.03 + 0.1 , 3.38 + 0.2 , 3.78 + 0.3] = [3.13 , 3.58  , 4.08]\n",
        "\n",
        "embcat[1] = [1.0 , 0.5 , 1.0 , 0.5 , 0.9 , 0.1]\n",
        "\n",
        "hprebn[1,0] = [1.0*0.1 + 0.5 * 0.4...] benzer şekilde hesaplanır\n",
        "hprebn[1] = [3.08 , 3.48 , 3.88]\n",
        "\n"
      ],
      "metadata": {
        "id": "UasdBwQJqXmB"
      }
    },
    {
      "cell_type": "code",
      "source": [
        "hprebn = torch.tensor([\n",
        "    [3.13,3.58,4.08],\n",
        "    [3.08,3.48,3.88]\n",
        "] , dtype= torch.float32)"
      ],
      "metadata": {
        "id": "9wxtLZaWpPi1"
      },
      "execution_count": 8,
      "outputs": []
    },
    {
      "cell_type": "markdown",
      "source": [
        "# 5.BATCHNORM\n",
        "\n",
        "--- Girişleri Normalize etmek"
      ],
      "metadata": {
        "id": "4mTmVnFnvGvB"
      }
    },
    {
      "cell_type": "markdown",
      "source": [
        "## 1.Ortalama Almak"
      ],
      "metadata": {
        "id": "Cb3S54tJGGTi"
      }
    },
    {
      "cell_type": "code",
      "source": [
        "bnmeani = hprebn.mean(0 , keepdim = True)\n",
        "# bnmeani[0] = (3.13 + 3.08) / 2  = 3.105\n",
        "# bnmeani[1] = (3.58 + 3.48) / 2 = 3.53\n",
        "# bnmeani[2] = (4.08 + 3.88) / 2 = 3.98\n",
        "#bnmeani= tensor([[3.1050, 3.5300, 3.9800]])\n",
        "bnmeani\n"
      ],
      "metadata": {
        "colab": {
          "base_uri": "https://localhost:8080/"
        },
        "id": "-Idtf7wxrJpa",
        "outputId": "300cad61-fc12-49b4-8ac6-b5508f5d3ea5"
      },
      "execution_count": 10,
      "outputs": [
        {
          "output_type": "execute_result",
          "data": {
            "text/plain": [
              "tensor([[3.1050, 3.5300, 3.9800]])"
            ]
          },
          "metadata": {},
          "execution_count": 10
        }
      ]
    },
    {
      "cell_type": "markdown",
      "source": [
        "## 2.Fark ve Kare"
      ],
      "metadata": {
        "id": "mD7bZiuzGKKp"
      }
    },
    {
      "cell_type": "code",
      "source": [
        "bndiff = hprebn - bnmeani\n",
        "# bndiff[0] = [3.13 - 3.105 , 3.58 - 3.53 , 4.08 - 3.98] = [0.025 , 0.05 , 0.1]\n",
        "# bndiff[1] = [3.08 - 3.105 , 3.48 - 3.53 , 3.88 - 3.98] = [-0.025 , -0.05, -0.1]\n",
        "\n",
        "bndiff2 = bndiff**2\n",
        "# bndiff2[0] = [0.000625,0.0025,0.01]\n",
        "# bndiff2[1] = [0.000625,0.0025,0.01]\n",
        "bndiff2"
      ],
      "metadata": {
        "id": "zu_6teBive26",
        "colab": {
          "base_uri": "https://localhost:8080/"
        },
        "outputId": "720a355a-b09d-4bfe-eeaf-bc095c76616b"
      },
      "execution_count": 11,
      "outputs": [
        {
          "output_type": "execute_result",
          "data": {
            "text/plain": [
              "tensor([[0.0006, 0.0025, 0.0100],\n",
              "        [0.0006, 0.0025, 0.0100]])"
            ]
          },
          "metadata": {},
          "execution_count": 11
        }
      ]
    },
    {
      "cell_type": "markdown",
      "source": [
        "## 3.Varyans (Bessel Düzeltmesi)\n",
        "\n",
        "--- Varyans  : bndiff2 nin ortalaması : bessel düzeltmesi ortalama alırken eleman sayısının bir eksiğine bölünür\n"
      ],
      "metadata": {
        "id": "sjEuM2p4IS0N"
      }
    },
    {
      "cell_type": "code",
      "source": [
        "bnvar = 1 / (2-1) * bndiff2.mean(0 , keepdim=True)  # Sütun toplanır eleman sayısının bir eksiğine böleriz\n",
        "\n",
        "#bnvar[0] = 1/1 (0.000625 + 0.000625) = 0.00125\n",
        "# bnvar[1] = 1/1 (0.0025 + 0.0025) = 0.005\n",
        "# bnvar[2] = 1/1(0.01 + 0.01) = 0.02\n",
        "\n",
        "bnvar = [[0.00125,0.005,0.02]]\n",
        "bnvar_inv = (bnvar + 1e-5) ** -0.5\n",
        "# bnvar_inv[0] = (0.00125 + 1e - 5) ^ (-0.5) ≈ 28.28\n",
        "# bnvar_inv[1] = (0.005 + 1e-5) ^(-0.5) ≈ 14.14\n",
        "#bnvar_inv[2] = (0.02 + 1e - 5) ^(0.5) ≈ 7.07\n",
        "bnvar_inv = [[28.28,14.14,7.07]]"
      ],
      "metadata": {
        "id": "adUBwOeuHfjr"
      },
      "execution_count": null,
      "outputs": []
    },
    {
      "cell_type": "markdown",
      "source": [
        "## 4.Normalizasyon"
      ],
      "metadata": {
        "id": "yztsWhvbdJjO"
      }
    },
    {
      "cell_type": "code",
      "source": [
        "bnraw = bndiff * bnvar_inv\n",
        "# bnraw[0] = [0.025 * 28.28 , 0.05*14.14 , 0.1 * 7.07] ≈ [0.707 , 0.707 , 0.707 ]\n",
        "#bnraw[1] = [-0.025 * 28.28 , -0.05 * 14.14 , -0.1 * 7.07] ≈ [-0.707 ,-0.707 , -0.707]"
      ],
      "metadata": {
        "id": "r67zvmG6dIhy"
      },
      "execution_count": null,
      "outputs": []
    },
    {
      "cell_type": "markdown",
      "source": [
        "## 5.Ölçek ve Öteleme\n"
      ],
      "metadata": {
        "id": "chRF8eI7e_M2"
      }
    },
    {
      "cell_type": "code",
      "source": [
        "hpreact = bngain * bnraw + bnbias\n",
        "# bngain = [[1,1,1,]] , bnbias = [0,0,0]\n",
        "# hpreact = bnraw\n",
        "\n",
        "hpreact = torch.tensor([\n",
        "    [0.707,0.707,0.707],\n",
        "    [-0.707,-0.707,-0.707]\n",
        "],dtype = torch.float32)"
      ],
      "metadata": {
        "id": "8tjqk3pXfJL_"
      },
      "execution_count": null,
      "outputs": []
    },
    {
      "cell_type": "markdown",
      "source": [
        "# 6.Tanh Aktivasyonu"
      ],
      "metadata": {
        "id": "NaesAEPzfi0j"
      }
    },
    {
      "cell_type": "code",
      "source": [
        "h = torch.tanh(hpreact)\n",
        "# tanh(0.707) ≈ 0.614 , tanh(-0.707) ≈ -0.614\n",
        "\n",
        "h = torch.tensor([\n",
        "    [0.614,0.614,0.614],\n",
        "    [-0.614,-0.614,-0.614]\n",
        "], dtype = torch.float32)"
      ],
      "metadata": {
        "id": "7o467866fnus"
      },
      "execution_count": null,
      "outputs": []
    },
    {
      "cell_type": "markdown",
      "source": [
        "# 7.İkinci Katman(Linear)"
      ],
      "metadata": {
        "id": "ugiU6cJOgEtt"
      }
    },
    {
      "cell_type": "markdown",
      "source": [
        "logits = h @ W2 + b2\n",
        "Matris Çarpımı = h(2,3) @ W2(3,5) = (2,5)\n",
        "\n",
        "Örnek1 =>\n",
        " h = [[0.614,0.614,0.614],\n",
        "    [-0.614,-0.614,-0.614]]\n",
        "\n",
        "W2 = torch.tensor([\n",
        "    [0.5, 0.4, 0.3, 0.2, 0.1],\n",
        "    [0.6, 0.5, 0.4, 0.3, 0.2],\n",
        "    [0.7, 0.6, 0.5, 0.4, 0.3]\n",
        "], dtype=torch.float32)\n",
        "\n",
        "b2 = torch.tensor([0.1, 0.1, 0.1, 0.1, 0.1], dtype=torch.float32)\n",
        "\n",
        "logits[0,0] = 0.614*0.5 + 0.614*0.6 + 0.614 * 0.7 + 0.1 = 0.307 + 0.3684 + 0.4298 + 0.1 = 1.2052\n",
        "...\n",
        "logits[0] = [1.2052 , 1.0828 , 0.9604 , 0.8380 , 0.7156]\n",
        "\n",
        "Örnek 2 >\n",
        "Aynı hesaplama [-0.614 * 0.5 + -0.614 * 0.6...\n",
        "\n",
        "h[1] = [-1.2052 , -1.0828 , -0.9604 , -0.8380 , -0.7156]"
      ],
      "metadata": {
        "id": "Ra2e9l-IgKhE"
      }
    },
    {
      "cell_type": "code",
      "source": [
        "logits = torch.tensor([\n",
        "    [1.2052, 1.0828, 0.9604, 0.8380, 0.7156],\n",
        "    [-1.2052, -1.0828, -0.9604, -0.8380, -0.7156]\n",
        "], dtype=torch.float32)"
      ],
      "metadata": {
        "id": "XTmWVLJqh1yo"
      },
      "execution_count": null,
      "outputs": []
    },
    {
      "cell_type": "markdown",
      "source": [
        "# 8.Kayıp Hesaplama(Cross - Entropy Loss)"
      ],
      "metadata": {
        "id": "U6_emkjziG47"
      }
    },
    {
      "cell_type": "markdown",
      "source": [
        "## 1 . Sayısal kararlılık için Normalizasyon"
      ],
      "metadata": {
        "id": "XYOVLVzkiQc1"
      }
    },
    {
      "cell_type": "code",
      "source": [
        "logit_maxes = logits.max(1 , keepdim = True).values\n",
        "# logit_maxes[0] = 1.2052 , logit_maxes[1] = 0.7156\n",
        "\n",
        "norm_logits = logits - logit_maxes\n",
        "\n",
        "# norm_logits[0] = [0, -0.1224, -0.2448, -0.3672, -0.4896]\n",
        "# norm_logits[1] = [-0.4896, -0.3672, -0.2448, -0.1224, 0]"
      ],
      "metadata": {
        "id": "ihhutlPDiPFs"
      },
      "execution_count": null,
      "outputs": []
    },
    {
      "cell_type": "markdown",
      "source": [
        "## 2.Softmax"
      ],
      "metadata": {
        "id": "lQMPCRxxi7zE"
      }
    },
    {
      "cell_type": "code",
      "source": [
        "counts = norm_logits.exp()\n",
        "# counts[0] ≈ [1, 0.885, 0.783, 0.692, 0.613]\n",
        "# counts[1] ≈ [0.613, 0.692, 0.783, 0.885, 1]\n",
        "\n",
        "counts_sum = count.sum(1 , keepdim = True)\n",
        "# counts_sum[0] ≈ 3.973, counts_sum[1] ≈ 3.973\n",
        "\n",
        "count_sum_inv = counts_sum ** -1\n",
        "# counts_sum_inv ≈ [0.252, 0.252]\n",
        "\n",
        "probs = counts * counts_sum_inv\n",
        "# probs[0] ≈ [0.252, 0.223, 0.197, 0.174, 0.154]\n",
        "# probs[1] ≈ [0.154, 0.174, 0.197, 0.223, 0.252]"
      ],
      "metadata": {
        "id": "zjp5-YWvi-Jk"
      },
      "execution_count": null,
      "outputs": []
    },
    {
      "cell_type": "markdown",
      "source": [
        "## 3.Log Olasılıklar"
      ],
      "metadata": {
        "id": "caMN-C3Ljtyc"
      }
    },
    {
      "cell_type": "code",
      "source": [
        "logprobs =  probs.log()\n",
        "# logprobs[0] ≈ [-1.378, -1.500, -1.623, -1.746, -1.869]\n",
        "# logprobs[1] ≈ [-1.869, -1.746, -1.623, -1.500, -1.378]"
      ],
      "metadata": {
        "id": "MvP3HwxtjwZq"
      },
      "execution_count": null,
      "outputs": []
    },
    {
      "cell_type": "markdown",
      "source": [
        "## 4.Kayıp\n",
        "\n",
        "- Yb = [4 ,3] (hedefler : m , i)\n",
        "- Loss = - logprobs[range(2) , Yb].mean()\n",
        "- logprobs[0,4] = -1.869 , logprobs[1,3] = -1.500\n",
        "- loss = -(-1.869 + -1.500) / 2 = 1.6845"
      ],
      "metadata": {
        "id": "ejJEn3xVkJbA"
      }
    },
    {
      "cell_type": "code",
      "source": [
        "loss = torch.tensor(1.6845)"
      ],
      "metadata": {
        "id": "kYFCb_Cbltul"
      },
      "execution_count": null,
      "outputs": []
    }
  ]
}